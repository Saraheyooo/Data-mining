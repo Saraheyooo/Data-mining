{
  "nbformat": 4,
  "nbformat_minor": 0,
  "metadata": {
    "colab": {
      "name": "Exam_1_3_20211209.ipynb",
      "provenance": [],
      "collapsed_sections": []
    },
    "kernelspec": {
      "name": "python3",
      "display_name": "Python 3"
    },
    "language_info": {
      "name": "python"
    },
    "accelerator": "GPU"
  },
  "cells": [
    {
      "cell_type": "markdown",
      "metadata": {
        "id": "Ksjp3hgpz9mZ"
      },
      "source": [
        "# Exam text analysis \n",
        "Sarah Hsu (8264937)"
      ]
    },
    {
      "cell_type": "markdown",
      "metadata": {
        "id": "ROsQ_Q5y0Cth"
      },
      "source": [
        "##Question 3\n",
        "A record producer has approached you with the question of whether there are any distinguishable features of a pop song. In other words: what sets a pop song (lyrically) apart from other genres?\n",
        "Try to formulate a good operationalization of this question (how are you going to quantify this, what method do you use, what steps do you need to take, what time period are you focusing on) using the methods we discussed in the last three weeks (you are free to choose one!), and argue why this operational- ization would be suitable to formulate an answer to the question of the record producer.\n",
        "Implement your operationalization using the dataset from exercise 3.1 and formulate an answer to the question of the record producer.\n"
      ]
    },
    {
      "cell_type": "markdown",
      "metadata": {
        "id": "z6NWF77V7rnE"
      },
      "source": [
        "### *An operationalization of the general question of the record producer (ca. 250 words)\n",
        "In this question, I will generally separate my processes into two steps:(1) Find distinguishable features: analysis of words and topics; (2) Classification: BERT.\n",
        "\n",
        "(1) In order to find distinguishable features and useful data for training a model, I put some efforts into processing and preparing the reliable data. First, I will gain insight into the lyrics of pop songs and see what is the typical topics and frequent words in classic pop songs. In this part, I will apply topic modeling method to discover the topic proportions across the years then select the period with similar pattern as well as filter out some out-of-date data.\n",
        "\n",
        "(2) With data understanding and data processing, I will use the dataset to train a BERT model because BERT can do sentiment analysis that I assume it is importment to take into account in predicting song geners. For classification, I will assign labels to pop song as 1 and labels to other genres as 0. Moreover, to make sure I have balanced data, I will randomly select 5000 samples from Pop and 5000 samples from other genres respectively(too much samples take me hours in run time...).\n",
        "\n",
        "After all the processes above, I suggest it can build a qualified BERT model with reasonable performance. Furthermore, I am able to interpret and validate the predicted result with the distinguishable features in step (1) as well."
      ]
    },
    {
      "cell_type": "markdown",
      "metadata": {
        "id": "-mhoF53175Y6"
      },
      "source": [
        "##Step 1: Find distinguishable features"
      ]
    },
    {
      "cell_type": "code",
      "metadata": {
        "colab": {
          "base_uri": "https://localhost:8080/"
        },
        "id": "5kutYwewz05G",
        "outputId": "79b9b666-ebec-409b-c68c-f867fcf882ec"
      },
      "source": [
        "from google.colab import drive\n",
        "drive.mount('/content/drive')"
      ],
      "execution_count": 2,
      "outputs": [
        {
          "output_type": "stream",
          "name": "stdout",
          "text": [
            "Mounted at /content/drive\n"
          ]
        }
      ]
    },
    {
      "cell_type": "code",
      "metadata": {
        "id": "X5kYtJ4dz_IX",
        "colab": {
          "base_uri": "https://localhost:8080/",
          "height": 206
        },
        "outputId": "675e3ebd-f8f5-4581-8bd9-fec7ab3e7bbb"
      },
      "source": [
        "# Use the dataset from exercise 3.1\n",
        "import pickle\n",
        "import pandas as pd\n",
        "\n",
        "PATH_DF = '/content/drive/MyDrive/Data/english_cleaned_lyrics.csv'\n",
        "PATH_CORRECTION = '/content/drive/MyDrive/Data/indx2newdate.p' \n",
        "\n",
        "def load_dataset(data_path, path_correction):\n",
        "    df = pd.read_csv(data_path)\n",
        "    indx2newdate = pickle.load(open(PATH_CORRECTION, 'rb'))\n",
        "    df['year'] = df['index'].apply(lambda x: int(indx2newdate[x][0][:4]) if indx2newdate[x][0] != '' else 0)\n",
        "    return df[df.year > 1960][['song', 'year', 'artist', 'genre', 'lyrics']]\n",
        "\n",
        "df = load_dataset(PATH_DF, PATH_CORRECTION)\n",
        "df.head()"
      ],
      "execution_count": 12,
      "outputs": [
        {
          "output_type": "execute_result",
          "data": {
            "text/html": [
              "<div>\n",
              "<style scoped>\n",
              "    .dataframe tbody tr th:only-of-type {\n",
              "        vertical-align: middle;\n",
              "    }\n",
              "\n",
              "    .dataframe tbody tr th {\n",
              "        vertical-align: top;\n",
              "    }\n",
              "\n",
              "    .dataframe thead th {\n",
              "        text-align: right;\n",
              "    }\n",
              "</style>\n",
              "<table border=\"1\" class=\"dataframe\">\n",
              "  <thead>\n",
              "    <tr style=\"text-align: right;\">\n",
              "      <th></th>\n",
              "      <th>song</th>\n",
              "      <th>year</th>\n",
              "      <th>artist</th>\n",
              "      <th>genre</th>\n",
              "      <th>lyrics</th>\n",
              "    </tr>\n",
              "  </thead>\n",
              "  <tbody>\n",
              "    <tr>\n",
              "      <th>0</th>\n",
              "      <td>ego-remix</td>\n",
              "      <td>2009</td>\n",
              "      <td>beyonce-knowles</td>\n",
              "      <td>Pop</td>\n",
              "      <td>Oh baby how you doing You know I'm gonna cut r...</td>\n",
              "    </tr>\n",
              "    <tr>\n",
              "      <th>5</th>\n",
              "      <td>all-i-could-do-was-cry</td>\n",
              "      <td>2008</td>\n",
              "      <td>beyonce-knowles</td>\n",
              "      <td>Pop</td>\n",
              "      <td>I heard Church bells ringing I heard A choir s...</td>\n",
              "    </tr>\n",
              "    <tr>\n",
              "      <th>6</th>\n",
              "      <td>once-in-a-lifetime</td>\n",
              "      <td>2008</td>\n",
              "      <td>beyonce-knowles</td>\n",
              "      <td>Pop</td>\n",
              "      <td>This is just another day that I would spend Wa...</td>\n",
              "    </tr>\n",
              "    <tr>\n",
              "      <th>9</th>\n",
              "      <td>why-don-t-you-love-me</td>\n",
              "      <td>2009</td>\n",
              "      <td>beyonce-knowles</td>\n",
              "      <td>Pop</td>\n",
              "      <td>N n now honey You better sit down and look aro...</td>\n",
              "    </tr>\n",
              "    <tr>\n",
              "      <th>16</th>\n",
              "      <td>poison</td>\n",
              "      <td>2009</td>\n",
              "      <td>beyonce-knowles</td>\n",
              "      <td>Pop</td>\n",
              "      <td>You're bad for me I clearly get it I don't see...</td>\n",
              "    </tr>\n",
              "  </tbody>\n",
              "</table>\n",
              "</div>"
            ],
            "text/plain": [
              "                      song  ...                                             lyrics\n",
              "0                ego-remix  ...  Oh baby how you doing You know I'm gonna cut r...\n",
              "5   all-i-could-do-was-cry  ...  I heard Church bells ringing I heard A choir s...\n",
              "6       once-in-a-lifetime  ...  This is just another day that I would spend Wa...\n",
              "9    why-don-t-you-love-me  ...  N n now honey You better sit down and look aro...\n",
              "16                  poison  ...  You're bad for me I clearly get it I don't see...\n",
              "\n",
              "[5 rows x 5 columns]"
            ]
          },
          "metadata": {},
          "execution_count": 12
        }
      ]
    },
    {
      "cell_type": "code",
      "metadata": {
        "id": "Rga8wUYHzHGx"
      },
      "source": [
        "# Lable the Pop songs(1) and non-pop songs(0)\n",
        "df['label'] = df['genre'].apply(lambda x: 1 if x == 'Pop' else 0)"
      ],
      "execution_count": 13,
      "outputs": []
    },
    {
      "cell_type": "code",
      "metadata": {
        "colab": {
          "base_uri": "https://localhost:8080/"
        },
        "id": "_BeMEr6_wKpp",
        "outputId": "00d3ebde-709c-44fa-eb50-1ca06d57b95c"
      },
      "source": [
        "# Take a look at the genre information\n",
        "df.genre.value_counts(ascending=False)"
      ],
      "execution_count": 14,
      "outputs": [
        {
          "output_type": "execute_result",
          "data": {
            "text/plain": [
              "Rock          77556\n",
              "Pop           23295\n",
              "Metal         15671\n",
              "Hip-Hop       14878\n",
              "Country       10545\n",
              "Electronic     5194\n",
              "Jazz           5068\n",
              "Indie          2489\n",
              "Other          2449\n",
              "R&B            2338\n",
              "Folk           1373\n",
              "Name: genre, dtype: int64"
            ]
          },
          "metadata": {},
          "execution_count": 14
        }
      ]
    },
    {
      "cell_type": "code",
      "metadata": {
        "colab": {
          "base_uri": "https://localhost:8080/"
        },
        "id": "Q7HkeHCV1-02",
        "outputId": "fb4bd565-a6fe-4fdf-a67b-27b5216ec989"
      },
      "source": [
        "df_pop = df[df.genre == \"Pop\"]\n",
        "df_pop.info()"
      ],
      "execution_count": 15,
      "outputs": [
        {
          "output_type": "stream",
          "name": "stdout",
          "text": [
            "<class 'pandas.core.frame.DataFrame'>\n",
            "Int64Index: 23295 entries, 0 to 218197\n",
            "Data columns (total 6 columns):\n",
            " #   Column  Non-Null Count  Dtype \n",
            "---  ------  --------------  ----- \n",
            " 0   song    23295 non-null  object\n",
            " 1   year    23295 non-null  int64 \n",
            " 2   artist  23295 non-null  object\n",
            " 3   genre   23295 non-null  object\n",
            " 4   lyrics  23295 non-null  object\n",
            " 5   label   23295 non-null  int64 \n",
            "dtypes: int64(2), object(4)\n",
            "memory usage: 1.2+ MB\n"
          ]
        }
      ]
    },
    {
      "cell_type": "markdown",
      "source": [
        "### Frequent Words"
      ],
      "metadata": {
        "id": "h9Fl8KXsDt-K"
      }
    },
    {
      "cell_type": "code",
      "metadata": {
        "id": "Bt8cwnGA4FQY"
      },
      "source": [
        "# Pre-processing the Pop lyrics \n",
        "import spacy\n",
        "nlp = spacy.load(\"en_core_web_sm\")\n",
        "lyrics = df_pop.lyrics.values\n",
        "processed_texts = [text for text in nlp.pipe(lyrics, \n",
        "                                              disable=[\"ner\",\n",
        "                                                       \"parser\"])]"
      ],
      "execution_count": 16,
      "outputs": []
    },
    {
      "cell_type": "code",
      "metadata": {
        "id": "V5V7RIT04NFm",
        "colab": {
          "base_uri": "https://localhost:8080/"
        },
        "outputId": "c9bdab5e-b527-41a7-82c3-5a487969f2e4"
      },
      "source": [
        "df_pop['processed_texts'] = processed_texts \n",
        "\n",
        "# Tokenization, lemmatization, removing stop word, removing punctuations and selecting word type(nouns)\n",
        "tokenized_texts_pop = [[word.lemma_.lower() for word in processed_text if word.pos_ == 'NOUN' \n",
        "                                and not word.is_stop and not word.is_punct] for processed_text in processed_texts]"
      ],
      "execution_count": 17,
      "outputs": [
        {
          "output_type": "stream",
          "name": "stderr",
          "text": [
            "/usr/local/lib/python3.7/dist-packages/ipykernel_launcher.py:1: SettingWithCopyWarning: \n",
            "A value is trying to be set on a copy of a slice from a DataFrame.\n",
            "Try using .loc[row_indexer,col_indexer] = value instead\n",
            "\n",
            "See the caveats in the documentation: https://pandas.pydata.org/pandas-docs/stable/user_guide/indexing.html#returning-a-view-versus-a-copy\n",
            "  \"\"\"Entry point for launching an IPython kernel.\n"
          ]
        }
      ]
    },
    {
      "cell_type": "code",
      "metadata": {
        "id": "uMngN-r7FZBW",
        "colab": {
          "base_uri": "https://localhost:8080/"
        },
        "outputId": "41940f39-e264-4cfe-8860-caaad4f5572f"
      },
      "source": [
        "from collections import Counter\n",
        "\n",
        "# concatenate the collection of texts\n",
        "flatten = lambda t: [item for sublist in t for item in sublist]\n",
        "tokenized_texts_pop_frq = flatten(tokenized_texts_pop)\n",
        "\n",
        "# Count the most common words in pop lyrics\n",
        "word_counts = Counter(tokenized_texts_pop_frq)\n",
        "word_counts.most_common()[:20] # n = 20"
      ],
      "execution_count": 18,
      "outputs": [
        {
          "output_type": "execute_result",
          "data": {
            "text/plain": [
              "[('love', 36529),\n",
              " ('time', 22527),\n",
              " ('baby', 18065),\n",
              " ('way', 17735),\n",
              " ('heart', 17131),\n",
              " ('day', 13628),\n",
              " ('life', 12969),\n",
              " ('night', 12349),\n",
              " ('girl', 11907),\n",
              " ('thing', 11580),\n",
              " ('world', 10209),\n",
              " ('eye', 9107),\n",
              " ('man', 7154),\n",
              " ('mind', 6745),\n",
              " ('tonight', 6281),\n",
              " ('hand', 6141),\n",
              " ('dream', 5530),\n",
              " ('light', 5501),\n",
              " ('boy', 4979),\n",
              " ('friend', 4564)]"
            ]
          },
          "metadata": {},
          "execution_count": 18
        }
      ]
    },
    {
      "cell_type": "markdown",
      "source": [
        "In the above analysis, we can know the lyrics of pop genre are frequently discuss about love relationship, life things and joy."
      ],
      "metadata": {
        "id": "ImcO__OKDOmX"
      }
    },
    {
      "cell_type": "markdown",
      "metadata": {
        "id": "xHqP00geyJJ8"
      },
      "source": [
        "### Topic Modeling of Pop"
      ]
    },
    {
      "cell_type": "code",
      "metadata": {
        "id": "Vp24ZBsFIutn"
      },
      "source": [
        "# Vectorization\n",
        "from gensim.corpora import Dictionary\n",
        "## Create a dictionary and filter out the words that occur less than three times, and all words that occur in over 85% of the documents.\n",
        "MIN_DF = 3 # minium document frequency\n",
        "MAX_DF = 0.85 # maximum document frequency\n",
        "\n",
        "tokenized_texts = tokenized_texts_pop\n",
        "dictionary = Dictionary(tokenized_texts) # get the vocabulary\n",
        "dictionary.filter_extremes(no_below=MIN_DF, \n",
        "                           no_above=MAX_DF)\n",
        "corpus = [dictionary.doc2bow(text) for text in tokenized_texts]"
      ],
      "execution_count": 62,
      "outputs": []
    },
    {
      "cell_type": "code",
      "metadata": {
        "id": "y5k-6MoaIuxD",
        "colab": {
          "base_uri": "https://localhost:8080/"
        },
        "outputId": "2e10e54b-001a-4a6b-f224-cbd09ac7ae23"
      },
      "source": [
        "# Train the embeddings model of pop genre\n",
        "import gensim\n",
        "from gensim.models import Word2Vec\n",
        "\n",
        "tokenized_texts = tokenized_texts_pop\n",
        "\n",
        "SIZE = 100 # dimensions of the embeddings\n",
        "SG = 1 # I use skip-gram\n",
        "WINDOW = 5 # the window size :the distances between the target words and its neighbors\n",
        "N_WORKERS = 1 # number of workers to use\n",
        "MIN_COUNT = 1 # I just keep everything\n",
        "\n",
        "\n",
        "model = Word2Vec(size=SIZE,\n",
        "                sg=SG,\n",
        "                window=WINDOW, \n",
        "                min_count=MIN_COUNT,\n",
        "                workers=N_WORKERS)\n",
        "\n",
        "model.build_vocab(tokenized_texts)\n",
        "\n",
        "model.train(tokenized_texts,\n",
        "           total_examples=model.corpus_count,\n",
        "           epochs=model.epochs) "
      ],
      "execution_count": 63,
      "outputs": [
        {
          "output_type": "execute_result",
          "data": {
            "text/plain": [
              "(2928721, 3857735)"
            ]
          },
          "metadata": {},
          "execution_count": 63
        }
      ]
    },
    {
      "cell_type": "code",
      "metadata": {
        "id": "t2tc81B1Iuzz"
      },
      "source": [
        "import os   \n",
        "\n",
        "!pip uninstall gensim\n",
        "!pip install gensim==3.8.3\n",
        "\n",
        "def install_java():\n",
        "  !apt-get install -y openjdk-8-jdk-headless -qq > /dev/null      \n",
        "  os.environ[\"JAVA_HOME\"] = \"/usr/lib/jvm/java-8-openjdk-amd64\"    \n",
        "  !java -version\n",
        "install_java()\n",
        "\n",
        "\n",
        "!wget http://mallet.cs.umass.edu/dist/mallet-2.0.8.zip\n",
        "!unzip mallet-2.0.8.zip\n",
        "\n",
        "!python -m spacy download nl_core_news_sm"
      ],
      "execution_count": null,
      "outputs": []
    },
    {
      "cell_type": "code",
      "metadata": {
        "id": "sl1AcuKpIu2x"
      },
      "source": [
        "# Train the topic model with LDA\n",
        "from gensim.models.wrappers import LdaMallet\n",
        "\n",
        "PATH_TO_MALLET = 'mallet-2.0.8/bin/mallet'\n",
        "\n",
        "N_TOPICS = 5 # k = 5: run a topic model with 5 topics\n",
        "N_ITERATIONS = 1000\n",
        "\n",
        "lda = LdaMallet(PATH_TO_MALLET,\n",
        "                corpus=corpus,\n",
        "                id2word=dictionary,\n",
        "                num_topics=N_TOPICS,\n",
        "                optimize_interval=10, \n",
        "                iterations=N_ITERATIONS) "
      ],
      "execution_count": 64,
      "outputs": []
    },
    {
      "cell_type": "code",
      "metadata": {
        "id": "yTyubYqzI9Zg",
        "colab": {
          "base_uri": "https://localhost:8080/"
        },
        "outputId": "e010a52e-8040-4102-91e1-3c075b17fe69"
      },
      "source": [
        "# Show the key words in each topic\n",
        "for topic in range(N_TOPICS):\n",
        "    words = lda.show_topic(topic, 10)\n",
        "    topic_n_words = ' '.join([word[0] for word in words])\n",
        "    print('Topic {}: {}'.format(str(topic), topic_n_words))"
      ],
      "execution_count": 72,
      "outputs": [
        {
          "output_type": "stream",
          "name": "stdout",
          "text": [
            "Topic 0: baby girl tonight boy night body time thing mind party\n",
            "Topic 1: night light day sky sun star fire eye world rain\n",
            "Topic 2: love heart night time baby eye arm lover life woman\n",
            "Topic 3: time life day thing world mind eye heart word place\n",
            "Topic 4: man money music beat hand dance floor song car house\n"
          ]
        }
      ]
    },
    {
      "cell_type": "markdown",
      "metadata": {
        "id": "2WUV4B9cL-9O"
      },
      "source": [
        "Based on the key words in each topics, I give a label to each topic to make it easily interpret in the following analysis. Topic 0: 'joy', 1:'world', 2:'love', 3: 'life', 4: 'money' "
      ]
    },
    {
      "cell_type": "code",
      "metadata": {
        "id": "IMJLr8obI9cM",
        "colab": {
          "base_uri": "https://localhost:8080/",
          "height": 206
        },
        "outputId": "80e8354c-f7ab-4daf-ec6d-6f4eaa03a8f7"
      },
      "source": [
        "import pandas as pd\n",
        "# Giving a label to each topic to make it easily interpret\n",
        "label = {0: 'joy', 1:'world', 2:'love', 3: 'life', 4: 'money'}\n",
        "transformed_docs = lda.load_document_topics()\n",
        "\n",
        "# Put the labels into DataFrame\n",
        "topic_distributions = pd.DataFrame([[x[1] for x in doc] for doc in transformed_docs], \n",
        "             columns=[label[i] for i in range(N_TOPICS)])\n",
        "topic_distributions.head()"
      ],
      "execution_count": 73,
      "outputs": [
        {
          "output_type": "execute_result",
          "data": {
            "text/html": [
              "<div>\n",
              "<style scoped>\n",
              "    .dataframe tbody tr th:only-of-type {\n",
              "        vertical-align: middle;\n",
              "    }\n",
              "\n",
              "    .dataframe tbody tr th {\n",
              "        vertical-align: top;\n",
              "    }\n",
              "\n",
              "    .dataframe thead th {\n",
              "        text-align: right;\n",
              "    }\n",
              "</style>\n",
              "<table border=\"1\" class=\"dataframe\">\n",
              "  <thead>\n",
              "    <tr style=\"text-align: right;\">\n",
              "      <th></th>\n",
              "      <th>joy</th>\n",
              "      <th>world</th>\n",
              "      <th>love</th>\n",
              "      <th>life</th>\n",
              "      <th>money</th>\n",
              "    </tr>\n",
              "  </thead>\n",
              "  <tbody>\n",
              "    <tr>\n",
              "      <th>0</th>\n",
              "      <td>0.423839</td>\n",
              "      <td>0.009177</td>\n",
              "      <td>0.008118</td>\n",
              "      <td>0.253886</td>\n",
              "      <td>0.304980</td>\n",
              "    </tr>\n",
              "    <tr>\n",
              "      <th>1</th>\n",
              "      <td>0.008851</td>\n",
              "      <td>0.161645</td>\n",
              "      <td>0.257672</td>\n",
              "      <td>0.073059</td>\n",
              "      <td>0.498773</td>\n",
              "    </tr>\n",
              "    <tr>\n",
              "      <th>2</th>\n",
              "      <td>0.006595</td>\n",
              "      <td>0.084018</td>\n",
              "      <td>0.701841</td>\n",
              "      <td>0.200108</td>\n",
              "      <td>0.007438</td>\n",
              "    </tr>\n",
              "    <tr>\n",
              "      <th>3</th>\n",
              "      <td>0.260058</td>\n",
              "      <td>0.041548</td>\n",
              "      <td>0.135785</td>\n",
              "      <td>0.015725</td>\n",
              "      <td>0.546884</td>\n",
              "    </tr>\n",
              "    <tr>\n",
              "      <th>4</th>\n",
              "      <td>0.449581</td>\n",
              "      <td>0.005078</td>\n",
              "      <td>0.120274</td>\n",
              "      <td>0.372067</td>\n",
              "      <td>0.052999</td>\n",
              "    </tr>\n",
              "  </tbody>\n",
              "</table>\n",
              "</div>"
            ],
            "text/plain": [
              "        joy     world      love      life     money\n",
              "0  0.423839  0.009177  0.008118  0.253886  0.304980\n",
              "1  0.008851  0.161645  0.257672  0.073059  0.498773\n",
              "2  0.006595  0.084018  0.701841  0.200108  0.007438\n",
              "3  0.260058  0.041548  0.135785  0.015725  0.546884\n",
              "4  0.449581  0.005078  0.120274  0.372067  0.052999"
            ]
          },
          "metadata": {},
          "execution_count": 73
        }
      ]
    },
    {
      "cell_type": "markdown",
      "metadata": {
        "id": "rUeQVw3FK6XE"
      },
      "source": [
        "### Time series\n",
        "Visualize the topic distribution of pop songs across the years to choose useful period."
      ]
    },
    {
      "cell_type": "code",
      "metadata": {
        "id": "TiZkd04KEZAQ",
        "colab": {
          "base_uri": "https://localhost:8080/",
          "height": 238
        },
        "outputId": "a13f4c33-c687-4a96-f718-613bcf505477"
      },
      "source": [
        "# Caculate the average proportion of the topic for each year\n",
        "joined_topic_dist = df_pop.reset_index().join(topic_distributions)\n",
        "grouped_by_year = joined_topic_dist.groupby('year').mean()\n",
        "grouped_by_year.head()"
      ],
      "execution_count": 74,
      "outputs": [
        {
          "output_type": "execute_result",
          "data": {
            "text/html": [
              "<div>\n",
              "<style scoped>\n",
              "    .dataframe tbody tr th:only-of-type {\n",
              "        vertical-align: middle;\n",
              "    }\n",
              "\n",
              "    .dataframe tbody tr th {\n",
              "        vertical-align: top;\n",
              "    }\n",
              "\n",
              "    .dataframe thead th {\n",
              "        text-align: right;\n",
              "    }\n",
              "</style>\n",
              "<table border=\"1\" class=\"dataframe\">\n",
              "  <thead>\n",
              "    <tr style=\"text-align: right;\">\n",
              "      <th></th>\n",
              "      <th>index</th>\n",
              "      <th>label</th>\n",
              "      <th>joy</th>\n",
              "      <th>world</th>\n",
              "      <th>love</th>\n",
              "      <th>life</th>\n",
              "      <th>money</th>\n",
              "    </tr>\n",
              "    <tr>\n",
              "      <th>year</th>\n",
              "      <th></th>\n",
              "      <th></th>\n",
              "      <th></th>\n",
              "      <th></th>\n",
              "      <th></th>\n",
              "      <th></th>\n",
              "      <th></th>\n",
              "    </tr>\n",
              "  </thead>\n",
              "  <tbody>\n",
              "    <tr>\n",
              "      <th>1961</th>\n",
              "      <td>72972.000000</td>\n",
              "      <td>1.0</td>\n",
              "      <td>0.009029</td>\n",
              "      <td>0.510948</td>\n",
              "      <td>0.422122</td>\n",
              "      <td>0.047719</td>\n",
              "      <td>0.010183</td>\n",
              "    </tr>\n",
              "    <tr>\n",
              "      <th>1962</th>\n",
              "      <td>61450.263158</td>\n",
              "      <td>1.0</td>\n",
              "      <td>0.061296</td>\n",
              "      <td>0.279888</td>\n",
              "      <td>0.269436</td>\n",
              "      <td>0.210967</td>\n",
              "      <td>0.178413</td>\n",
              "    </tr>\n",
              "    <tr>\n",
              "      <th>1963</th>\n",
              "      <td>116976.571429</td>\n",
              "      <td>1.0</td>\n",
              "      <td>0.053971</td>\n",
              "      <td>0.433265</td>\n",
              "      <td>0.210454</td>\n",
              "      <td>0.153893</td>\n",
              "      <td>0.148417</td>\n",
              "    </tr>\n",
              "    <tr>\n",
              "      <th>1964</th>\n",
              "      <td>140322.100000</td>\n",
              "      <td>1.0</td>\n",
              "      <td>0.154334</td>\n",
              "      <td>0.196344</td>\n",
              "      <td>0.268721</td>\n",
              "      <td>0.265610</td>\n",
              "      <td>0.114990</td>\n",
              "    </tr>\n",
              "    <tr>\n",
              "      <th>1965</th>\n",
              "      <td>108716.632353</td>\n",
              "      <td>1.0</td>\n",
              "      <td>0.164989</td>\n",
              "      <td>0.320862</td>\n",
              "      <td>0.251912</td>\n",
              "      <td>0.155159</td>\n",
              "      <td>0.107079</td>\n",
              "    </tr>\n",
              "  </tbody>\n",
              "</table>\n",
              "</div>"
            ],
            "text/plain": [
              "              index  label       joy     world      love      life     money\n",
              "year                                                                        \n",
              "1961   72972.000000    1.0  0.009029  0.510948  0.422122  0.047719  0.010183\n",
              "1962   61450.263158    1.0  0.061296  0.279888  0.269436  0.210967  0.178413\n",
              "1963  116976.571429    1.0  0.053971  0.433265  0.210454  0.153893  0.148417\n",
              "1964  140322.100000    1.0  0.154334  0.196344  0.268721  0.265610  0.114990\n",
              "1965  108716.632353    1.0  0.164989  0.320862  0.251912  0.155159  0.107079"
            ]
          },
          "metadata": {},
          "execution_count": 74
        }
      ]
    },
    {
      "cell_type": "code",
      "metadata": {
        "id": "fOX7TLx8EZCQ",
        "colab": {
          "base_uri": "https://localhost:8080/"
        },
        "outputId": "37281215-7acf-49c8-fd3c-adc0c9db0fee"
      },
      "source": [
        "!pip install csaps"
      ],
      "execution_count": 22,
      "outputs": [
        {
          "output_type": "stream",
          "name": "stdout",
          "text": [
            "Collecting csaps\n",
            "  Downloading csaps-1.1.0-py3-none-any.whl (17 kB)\n",
            "Requirement already satisfied: numpy<2,>=1.12.0 in /usr/local/lib/python3.7/dist-packages (from csaps) (1.19.5)\n",
            "Requirement already satisfied: scipy<2,>=1.0.0 in /usr/local/lib/python3.7/dist-packages (from csaps) (1.4.1)\n",
            "Installing collected packages: csaps\n",
            "Successfully installed csaps-1.1.0\n"
          ]
        }
      ]
    },
    {
      "cell_type": "code",
      "source": [
        "# get a smoothed trend in Time Series\n",
        "from csaps import csaps\n",
        "import matplotlib.pyplot as plt\n",
        "\n",
        "def smooth(x, y, smooth=0.95):\n",
        "    xs = np.linspace(x[0], x[-1], 150)\n",
        "    ys = csaps(x, y, xs, smooth=smooth)\n",
        "    return xs, ys\n"
      ],
      "metadata": {
        "id": "eZfPWwma6dLl"
      },
      "execution_count": 75,
      "outputs": []
    },
    {
      "cell_type": "code",
      "metadata": {
        "id": "BY6FgEWiKGCc",
        "colab": {
          "base_uri": "https://localhost:8080/",
          "height": 543
        },
        "outputId": "b2e9142b-532d-4f5f-97b8-d56f40277196"
      },
      "source": [
        "import numpy as np\n",
        "import matplotlib.pyplot as plt\n",
        "\n",
        "# plot the 5 topic \n",
        "TOPICS2PLOT = ['joy', 'world', 'love','life','money'] \n",
        "TOPICS2PLOT\n",
        "labels = {}\n",
        "for x in TOPICS2PLOT:\n",
        "  labels[x] = '{}'.format(x)\n",
        "\n",
        "plt.figure(figsize=(10,8))\n",
        "for topic in TOPICS2PLOT:\n",
        "    smooth_x, smooth_y = smooth(grouped_by_year.index, grouped_by_year['{}'.format(topic)])\n",
        "    plt.plot(smooth_x, smooth_y, label=labels[topic])\n",
        "\n",
        "plt.title('Topic distribution of Pop across the years', fontsize=20)\n",
        "plt.xlabel('Year', fontsize=18)\n",
        "plt.ylabel('Proportion', fontsize=16) \n",
        "plt.xticks(np.arange(1961, 2021, 5), fontsize=10)\n",
        "plt.legend()"
      ],
      "execution_count": 77,
      "outputs": [
        {
          "output_type": "execute_result",
          "data": {
            "text/plain": [
              "<matplotlib.legend.Legend at 0x7fa0bad80350>"
            ]
          },
          "metadata": {},
          "execution_count": 77
        },
        {
          "output_type": "display_data",
          "data": {
            "image/png": "[encoded data removed]",
            "text/plain": [
              "<Figure size 720x576 with 1 Axes>"
            ]
          },
          "metadata": {
            "needs_background": "light"
          }
        }
      ]
    },
    {
      "cell_type": "code",
      "source": [
        "df_pop.year.value_counts()"
      ],
      "metadata": {
        "id": "bSISC-5rFjst"
      },
      "execution_count": null,
      "outputs": []
    },
    {
      "cell_type": "markdown",
      "metadata": {
        "id": "82sty-SGAHSM"
      },
      "source": [
        "In the above analysis, we can see the development of pop genre after 2000 are more stable without considerable changes between different topics as well as more data(songs) each year. Additonally, in order to avoid considerable gaps between generation to influece the results, I filter out the out-of-date data before 2000. Overall, I would like to analyze the period from 2000 to 2020 that have a closer pattern and enough songs for each year. "
      ]
    },
    {
      "cell_type": "markdown",
      "metadata": {
        "id": "wK_e2gku40Qp"
      },
      "source": [
        "## Step 2. Classification: BERT"
      ]
    },
    {
      "cell_type": "markdown",
      "metadata": {
        "id": "UvQK-gtfM--Z"
      },
      "source": [
        "I will choose the data from 2000 to 2020 to train the BERT and predict in the following stpes."
      ]
    },
    {
      "cell_type": "code",
      "source": [
        "# Choose the period from 2000 to 2020\n",
        "df_2000 = df[df.year >= 2000]\n",
        "# Randomly select 100 samples from pop and 100 samples from others\n",
        "df_sub = df_2000[df_2000.label == 1].sample(n=5000).append(df_2000[df_2000.label != 1].sample(n=5000))\n",
        "df_sub"
      ],
      "metadata": {
        "id": "J6-tSUo-hGHT",
        "colab": {
          "base_uri": "https://localhost:8080/",
          "height": 424
        },
        "outputId": "9bd1831a-0d2a-44de-d6e7-02f9d2d5243e"
      },
      "execution_count": 53,
      "outputs": [
        {
          "output_type": "execute_result",
          "data": {
            "text/html": [
              "<div>\n",
              "<style scoped>\n",
              "    .dataframe tbody tr th:only-of-type {\n",
              "        vertical-align: middle;\n",
              "    }\n",
              "\n",
              "    .dataframe tbody tr th {\n",
              "        vertical-align: top;\n",
              "    }\n",
              "\n",
              "    .dataframe thead th {\n",
              "        text-align: right;\n",
              "    }\n",
              "</style>\n",
              "<table border=\"1\" class=\"dataframe\">\n",
              "  <thead>\n",
              "    <tr style=\"text-align: right;\">\n",
              "      <th></th>\n",
              "      <th>song</th>\n",
              "      <th>year</th>\n",
              "      <th>artist</th>\n",
              "      <th>genre</th>\n",
              "      <th>lyrics</th>\n",
              "      <th>label</th>\n",
              "    </tr>\n",
              "  </thead>\n",
              "  <tbody>\n",
              "    <tr>\n",
              "      <th>116019</th>\n",
              "      <td>genghis-khan</td>\n",
              "      <td>2004</td>\n",
              "      <td>dschinghis-khan</td>\n",
              "      <td>Pop</td>\n",
              "      <td>They rode the fastest horses left the wind beh...</td>\n",
              "      <td>1</td>\n",
              "    </tr>\n",
              "    <tr>\n",
              "      <th>61540</th>\n",
              "      <td>zero-gravity</td>\n",
              "      <td>2009</td>\n",
              "      <td>david-archuleta</td>\n",
              "      <td>Pop</td>\n",
              "      <td>Tell me what you did to me Just there beneath ...</td>\n",
              "      <td>1</td>\n",
              "    </tr>\n",
              "    <tr>\n",
              "      <th>61546</th>\n",
              "      <td>love-don-t-hate</td>\n",
              "      <td>2013</td>\n",
              "      <td>david-archuleta</td>\n",
              "      <td>Pop</td>\n",
              "      <td>You always ask me Those words I say And tellin...</td>\n",
              "      <td>1</td>\n",
              "    </tr>\n",
              "    <tr>\n",
              "      <th>196492</th>\n",
              "      <td>clown</td>\n",
              "      <td>2020</td>\n",
              "      <td>emeli-sande</td>\n",
              "      <td>Pop</td>\n",
              "      <td>I guess it's funnier from where you're standin...</td>\n",
              "      <td>1</td>\n",
              "    </tr>\n",
              "    <tr>\n",
              "      <th>74410</th>\n",
              "      <td>millionaire</td>\n",
              "      <td>2016</td>\n",
              "      <td>cash-cash</td>\n",
              "      <td>Pop</td>\n",
              "      <td>I feel like a millionaire I feel like a millio...</td>\n",
              "      <td>1</td>\n",
              "    </tr>\n",
              "    <tr>\n",
              "      <th>...</th>\n",
              "      <td>...</td>\n",
              "      <td>...</td>\n",
              "      <td>...</td>\n",
              "      <td>...</td>\n",
              "      <td>...</td>\n",
              "      <td>...</td>\n",
              "    </tr>\n",
              "    <tr>\n",
              "      <th>89348</th>\n",
              "      <td>i-ve-got-a-feeling-naked-version</td>\n",
              "      <td>2014</td>\n",
              "      <td>beatles</td>\n",
              "      <td>Rock</td>\n",
              "      <td>I've got a feeling a feeling deep inside Oh ye...</td>\n",
              "      <td>0</td>\n",
              "    </tr>\n",
              "    <tr>\n",
              "      <th>174093</th>\n",
              "      <td>that-s-why</td>\n",
              "      <td>2008</td>\n",
              "      <td>craig-morgan</td>\n",
              "      <td>Country</td>\n",
              "      <td>My alarm goes off early Can't afford to be lat...</td>\n",
              "      <td>0</td>\n",
              "    </tr>\n",
              "    <tr>\n",
              "      <th>122185</th>\n",
              "      <td>you-got-it</td>\n",
              "      <td>2011</td>\n",
              "      <td>etta-james</td>\n",
              "      <td>R&amp;B</td>\n",
              "      <td>Well you're making a big mistake girl Trying t...</td>\n",
              "      <td>0</td>\n",
              "    </tr>\n",
              "    <tr>\n",
              "      <th>155019</th>\n",
              "      <td>feeling-like</td>\n",
              "      <td>2019</td>\n",
              "      <td>drake</td>\n",
              "      <td>Hip-Hop</td>\n",
              "      <td>You know you know How the story go You just ju...</td>\n",
              "      <td>0</td>\n",
              "    </tr>\n",
              "    <tr>\n",
              "      <th>51767</th>\n",
              "      <td>promise</td>\n",
              "      <td>2003</td>\n",
              "      <td>darlene-zschech</td>\n",
              "      <td>Hip-Hop</td>\n",
              "      <td>Laid down mystery Of life quite clear to me Th...</td>\n",
              "      <td>0</td>\n",
              "    </tr>\n",
              "  </tbody>\n",
              "</table>\n",
              "<p>10000 rows × 6 columns</p>\n",
              "</div>"
            ],
            "text/plain": [
              "                                    song  ...  label\n",
              "116019                      genghis-khan  ...      1\n",
              "61540                       zero-gravity  ...      1\n",
              "61546                    love-don-t-hate  ...      1\n",
              "196492                             clown  ...      1\n",
              "74410                        millionaire  ...      1\n",
              "...                                  ...  ...    ...\n",
              "89348   i-ve-got-a-feeling-naked-version  ...      0\n",
              "174093                        that-s-why  ...      0\n",
              "122185                        you-got-it  ...      0\n",
              "155019                      feeling-like  ...      0\n",
              "51767                            promise  ...      0\n",
              "\n",
              "[10000 rows x 6 columns]"
            ]
          },
          "metadata": {},
          "execution_count": 53
        }
      ]
    },
    {
      "cell_type": "code",
      "metadata": {
        "id": "5D8VX0aR44Ub"
      },
      "source": [
        "!pip install transformers"
      ],
      "execution_count": null,
      "outputs": []
    },
    {
      "cell_type": "code",
      "metadata": {
        "id": "mJF3DpPl5Gv2"
      },
      "source": [
        "# Train/test/val split\n",
        "from sklearn.model_selection import train_test_split\n",
        "\n",
        "data = df_sub\n",
        "\n",
        "X = list(data.lyrics.values) # the lyrics --> X\n",
        "y = list(data.label.values) # the labels we want to predict --> Y\n",
        "labels = ['Not Pop', 'Pop']\n",
        "\n",
        "X_train, X_test, y_train, y_test = train_test_split(X, y, test_size=0.2, random_state=1)\n",
        "X_test, X_val, y_test, y_val = train_test_split(X_test, y_test, test_size=0.5, random_state=1)"
      ],
      "execution_count": 54,
      "outputs": []
    },
    {
      "cell_type": "code",
      "metadata": {
        "id": "Ywt75U134zWX"
      },
      "source": [
        "# Vectorization\n",
        "import tensorflow as tf\n",
        "from transformers import DistilBertTokenizerFast\n",
        "\n",
        "# Necessarily use the tokenizer of BERT to pre-process\n",
        "data = df_sub\n",
        "tokenizer = DistilBertTokenizerFast.from_pretrained('distilbert-base-cased')\n",
        "\n",
        "# Following the setting in exercise 2.1\n",
        "train_encodings = tokenizer(X_train, truncation=True, padding=True, max_length=128) # convert input strings to BERT encodings\n",
        "test_encodings = tokenizer(X_test, truncation=True, padding=True,  max_length=128)\n",
        "val_encodings = tokenizer(X_val, truncation=True, padding=True, max_length=128)\n",
        "\n",
        "train_dataset = tf.data.Dataset.from_tensor_slices((\n",
        "    dict(train_encodings),\n",
        "    y_train\n",
        ")).shuffle(1000).batch(16) # convert the encodings to Tensorflow objects\n",
        "val_dataset = tf.data.Dataset.from_tensor_slices((\n",
        "    dict(val_encodings),\n",
        "    y_val\n",
        ")).batch(64)\n",
        "test_dataset = tf.data.Dataset.from_tensor_slices((\n",
        "    dict(test_encodings),\n",
        "    y_test\n",
        ")).batch(64)"
      ],
      "execution_count": 55,
      "outputs": []
    },
    {
      "cell_type": "code",
      "metadata": {
        "id": "a43bk9aZ4zZZ",
        "colab": {
          "base_uri": "https://localhost:8080/"
        },
        "outputId": "0134d272-5725-4ae5-e1bb-56a69cf32e4d"
      },
      "source": [
        "# Compile the model\n",
        "from transformers import TFDistilBertForSequenceClassification\n",
        "\n",
        "model = TFDistilBertForSequenceClassification.from_pretrained('distilbert-base-cased', \n",
        "                                                           num_labels=len(labels))\n",
        "callbacks = [\n",
        "        tf.keras.callbacks.EarlyStopping(monitor='val_loss', min_delta=0, patience=3, verbose=0, \n",
        "                      mode='min', baseline=None, \n",
        "                      restore_best_weights=True)]\n",
        "\n",
        "optimizer = tf.keras.optimizers.Adam(learning_rate=5e-5)\n",
        "loss = tf.keras.losses.SparseCategoricalCrossentropy(from_logits=True)\n",
        "\n",
        "# Set the optimizer\n",
        "model.compile(optimizer=optimizer, loss=loss)"
      ],
      "execution_count": 56,
      "outputs": [
        {
          "output_type": "stream",
          "name": "stderr",
          "text": [
            "Some layers from the model checkpoint at distilbert-base-cased were not used when initializing TFDistilBertForSequenceClassification: ['activation_13', 'vocab_layer_norm', 'vocab_projector', 'vocab_transform']\n",
            "- This IS expected if you are initializing TFDistilBertForSequenceClassification from the checkpoint of a model trained on another task or with another architecture (e.g. initializing a BertForSequenceClassification model from a BertForPreTraining model).\n",
            "- This IS NOT expected if you are initializing TFDistilBertForSequenceClassification from the checkpoint of a model that you expect to be exactly identical (initializing a BertForSequenceClassification model from a BertForSequenceClassification model).\n",
            "Some layers of TFDistilBertForSequenceClassification were not initialized from the model checkpoint at distilbert-base-cased and are newly initialized: ['pre_classifier', 'classifier', 'dropout_39']\n",
            "You should probably TRAIN this model on a down-stream task to be able to use it for predictions and inference.\n"
          ]
        }
      ]
    },
    {
      "cell_type": "code",
      "metadata": {
        "id": "K2LoNGtW4zcO",
        "colab": {
          "base_uri": "https://localhost:8080/"
        },
        "outputId": "58637394-fdd8-4561-e0e0-c5019ac074c6"
      },
      "source": [
        "# Train the model\n",
        "model.fit(train_dataset, \n",
        "            epochs=5, # work with optimizer\n",
        "          callbacks=callbacks, \n",
        "          validation_data=val_dataset,\n",
        "           batch_size=16)"
      ],
      "execution_count": 57,
      "outputs": [
        {
          "output_type": "stream",
          "name": "stdout",
          "text": [
            "Epoch 1/5\n",
            "500/500 [==============================] - 224s 427ms/step - loss: 0.6387 - val_loss: 0.6187\n",
            "Epoch 2/5\n",
            "500/500 [==============================] - 212s 424ms/step - loss: 0.5670 - val_loss: 0.6829\n",
            "Epoch 3/5\n",
            "500/500 [==============================] - 212s 424ms/step - loss: 0.4270 - val_loss: 0.7301\n",
            "Epoch 4/5\n",
            "500/500 [==============================] - 212s 424ms/step - loss: 0.2601 - val_loss: 1.0157\n"
          ]
        },
        {
          "output_type": "execute_result",
          "data": {
            "text/plain": [
              "<keras.callbacks.History at 0x7f9f43c78e50>"
            ]
          },
          "metadata": {},
          "execution_count": 57
        }
      ]
    },
    {
      "cell_type": "code",
      "metadata": {
        "id": "mbwy4GH34zfk",
        "colab": {
          "base_uri": "https://localhost:8080/"
        },
        "outputId": "9f5262de-087c-4253-d1ef-8d0101dff464"
      },
      "source": [
        "# Evaluate the perfomance\n",
        "import numpy as np\n",
        "from sklearn.metrics import classification_report \n",
        "\n",
        "logits = model.predict(test_dataset)\n",
        "y_preds = np.argmax(logits[0], axis=1)\n",
        "print(classification_report(y_test, y_preds))"
      ],
      "execution_count": 58,
      "outputs": [
        {
          "output_type": "stream",
          "name": "stdout",
          "text": [
            "              precision    recall  f1-score   support\n",
            "\n",
            "           0       0.69      0.60      0.64       498\n",
            "           1       0.65      0.74      0.69       502\n",
            "\n",
            "    accuracy                           0.67      1000\n",
            "   macro avg       0.67      0.67      0.67      1000\n",
            "weighted avg       0.67      0.67      0.67      1000\n",
            "\n"
          ]
        }
      ]
    },
    {
      "cell_type": "code",
      "metadata": {
        "id": "H_GpZ8y02i3C"
      },
      "source": [
        "# Load the new_lyrics\n",
        "new_lyrics = open(\"/content/drive/MyDrive/Data/New lyrics_exam 1.3.txt\").read()\n",
        "new_lyrics = new_lyrics.replace('\\n', '')"
      ],
      "execution_count": 4,
      "outputs": []
    },
    {
      "cell_type": "code",
      "metadata": {
        "id": "3o7l8fnw4zhW",
        "colab": {
          "base_uri": "https://localhost:8080/"
        },
        "outputId": "5d6611cf-b645-46f4-b72f-f3d36be69934"
      },
      "source": [
        "# we can also test the model with label data\n",
        "# new_examples = df_sub.iloc[:5, 4].tolist()\n",
        "\n",
        "# Predict the new lyrics is pop or not\n",
        "new_examples = [new_lyrics]\n",
        "\n",
        "# Pre-processing the new lyrics\n",
        "examples_encodings = tokenizer(new_examples, truncation=True, padding=True)\n",
        "examples_encodings = tf.data.Dataset.from_tensor_slices((\n",
        "                    dict(examples_encodings)\n",
        "                      )).batch(64)\n",
        "pred_logits = model.predict(examples_encodings)\n",
        "\n",
        "for i, logits in enumerate(pred_logits[0]):\n",
        "    prediction = np.argmax(logits)\n",
        "    print(\"{}\".format(labels[prediction]))\n",
        "    "
      ],
      "execution_count": 60,
      "outputs": [
        {
          "output_type": "stream",
          "name": "stdout",
          "text": [
            "Pop\n"
          ]
        }
      ]
    },
    {
      "cell_type": "code",
      "source": [
        "# Get the probability by converting the logits to probabilities\n",
        "softmax = lambda x : np.exp(x)/sum(np.exp(x))\n",
        "for i, logits in enumerate(pred_logits[0]):\n",
        "    proba = softmax(logits)\n",
        "    probability_not_clickbait = proba[0]\n",
        "    probability_clickbait = proba[1]\n",
        "    print(\"{}% not pop; {}% pop\".format( round(probability_not_clickbait, 3),\n",
        "                                         round(probability_clickbait, 3)))"
      ],
      "metadata": {
        "id": "n0CwN9VO3lvM",
        "colab": {
          "base_uri": "https://localhost:8080/"
        },
        "outputId": "037083f6-9cb0-4c5d-c93f-4a65d8aad7bb"
      },
      "execution_count": 61,
      "outputs": [
        {
          "output_type": "stream",
          "name": "stdout",
          "text": [
            "0.45100000500679016% not pop; 0.5490000247955322% pop\n"
          ]
        }
      ]
    },
    {
      "cell_type": "markdown",
      "source": [
        "##  Analysis the new lyrics"
      ],
      "metadata": {
        "id": "8oXAiD3juksp"
      }
    },
    {
      "cell_type": "code",
      "source": [
        "import spacy\n",
        "# Analysis the new lyrics\n",
        "text = new_lyrics\n",
        "nlp = spacy.load(\"en_core_web_sm\")\n",
        "processed_text = nlp(text)\n",
        "tokenized_text_new = [word.lemma_ for word in processed_text if word.pos_ == 'NOUN' and not word.is_stop]"
      ],
      "metadata": {
        "id": "F4ERCB3txRnS"
      },
      "execution_count": 5,
      "outputs": []
    },
    {
      "cell_type": "code",
      "source": [
        "from collections import Counter\n",
        "import pandas as pd\n",
        "\n",
        "# See the most frequent words\n",
        "\n",
        "word_counts = Counter(tokenized_text_new)\n",
        "new = word_counts.most_common()[:13]\n",
        "new = pd.DataFrame(new, columns=['word', 'times']) \n",
        "new.sort_values('times', ascending=False)"
      ],
      "metadata": {
        "colab": {
          "base_uri": "https://localhost:8080/",
          "height": 457
        },
        "id": "HNOcHCM-xRqi",
        "outputId": "40f9a75a-469f-47af-cf20-c53e0d46b89a"
      },
      "execution_count": 9,
      "outputs": [
        {
          "output_type": "execute_result",
          "data": {
            "text/html": [
              "<div>\n",
              "<style scoped>\n",
              "    .dataframe tbody tr th:only-of-type {\n",
              "        vertical-align: middle;\n",
              "    }\n",
              "\n",
              "    .dataframe tbody tr th {\n",
              "        vertical-align: top;\n",
              "    }\n",
              "\n",
              "    .dataframe thead th {\n",
              "        text-align: right;\n",
              "    }\n",
              "</style>\n",
              "<table border=\"1\" class=\"dataframe\">\n",
              "  <thead>\n",
              "    <tr style=\"text-align: right;\">\n",
              "      <th></th>\n",
              "      <th>word</th>\n",
              "      <th>times</th>\n",
              "    </tr>\n",
              "  </thead>\n",
              "  <tbody>\n",
              "    <tr>\n",
              "      <th>0</th>\n",
              "      <td>world</td>\n",
              "      <td>14</td>\n",
              "    </tr>\n",
              "    <tr>\n",
              "      <th>1</th>\n",
              "      <td>end</td>\n",
              "      <td>10</td>\n",
              "    </tr>\n",
              "    <tr>\n",
              "      <th>2</th>\n",
              "      <td>sky</td>\n",
              "      <td>4</td>\n",
              "    </tr>\n",
              "    <tr>\n",
              "      <th>3</th>\n",
              "      <td>rain</td>\n",
              "      <td>4</td>\n",
              "    </tr>\n",
              "    <tr>\n",
              "      <th>4</th>\n",
              "      <td>pain</td>\n",
              "      <td>4</td>\n",
              "    </tr>\n",
              "    <tr>\n",
              "      <th>5</th>\n",
              "      <td>music</td>\n",
              "      <td>4</td>\n",
              "    </tr>\n",
              "    <tr>\n",
              "      <th>6</th>\n",
              "      <td>lie</td>\n",
              "      <td>3</td>\n",
              "    </tr>\n",
              "    <tr>\n",
              "      <th>7</th>\n",
              "      <td>heart</td>\n",
              "      <td>2</td>\n",
              "    </tr>\n",
              "    <tr>\n",
              "      <th>8</th>\n",
              "      <td>lockdown</td>\n",
              "      <td>2</td>\n",
              "    </tr>\n",
              "    <tr>\n",
              "      <th>9</th>\n",
              "      <td>eye</td>\n",
              "      <td>2</td>\n",
              "    </tr>\n",
              "    <tr>\n",
              "      <th>10</th>\n",
              "      <td>lookout</td>\n",
              "      <td>2</td>\n",
              "    </tr>\n",
              "    <tr>\n",
              "      <th>11</th>\n",
              "      <td>light</td>\n",
              "      <td>2</td>\n",
              "    </tr>\n",
              "    <tr>\n",
              "      <th>12</th>\n",
              "      <td>break</td>\n",
              "      <td>1</td>\n",
              "    </tr>\n",
              "  </tbody>\n",
              "</table>\n",
              "</div>"
            ],
            "text/plain": [
              "        word  times\n",
              "0      world     14\n",
              "1        end     10\n",
              "2        sky      4\n",
              "3       rain      4\n",
              "4       pain      4\n",
              "5      music      4\n",
              "6        lie      3\n",
              "7      heart      2\n",
              "8   lockdown      2\n",
              "9        eye      2\n",
              "10   lookout      2\n",
              "11     light      2\n",
              "12     break      1"
            ]
          },
          "metadata": {},
          "execution_count": 9
        }
      ]
    },
    {
      "cell_type": "code",
      "source": [
        "word_counts = Counter(tokenized_texts_pop_frq)\n",
        "pop = word_counts.most_common()[:13] # set the same the number of new lyrics\n",
        "pop = pd.DataFrame(pop, columns=['word', 'times']) \n",
        "pop.sort_values('times', ascending=False)"
      ],
      "metadata": {
        "id": "hXWUXNCtxRtr",
        "colab": {
          "base_uri": "https://localhost:8080/",
          "height": 457
        },
        "outputId": "3169d618-da18-4771-8b57-db2c2aa4d0af"
      },
      "execution_count": 20,
      "outputs": [
        {
          "output_type": "execute_result",
          "data": {
            "text/html": [
              "<div>\n",
              "<style scoped>\n",
              "    .dataframe tbody tr th:only-of-type {\n",
              "        vertical-align: middle;\n",
              "    }\n",
              "\n",
              "    .dataframe tbody tr th {\n",
              "        vertical-align: top;\n",
              "    }\n",
              "\n",
              "    .dataframe thead th {\n",
              "        text-align: right;\n",
              "    }\n",
              "</style>\n",
              "<table border=\"1\" class=\"dataframe\">\n",
              "  <thead>\n",
              "    <tr style=\"text-align: right;\">\n",
              "      <th></th>\n",
              "      <th>word</th>\n",
              "      <th>times</th>\n",
              "    </tr>\n",
              "  </thead>\n",
              "  <tbody>\n",
              "    <tr>\n",
              "      <th>0</th>\n",
              "      <td>love</td>\n",
              "      <td>36529</td>\n",
              "    </tr>\n",
              "    <tr>\n",
              "      <th>1</th>\n",
              "      <td>time</td>\n",
              "      <td>22527</td>\n",
              "    </tr>\n",
              "    <tr>\n",
              "      <th>2</th>\n",
              "      <td>baby</td>\n",
              "      <td>18065</td>\n",
              "    </tr>\n",
              "    <tr>\n",
              "      <th>3</th>\n",
              "      <td>way</td>\n",
              "      <td>17735</td>\n",
              "    </tr>\n",
              "    <tr>\n",
              "      <th>4</th>\n",
              "      <td>heart</td>\n",
              "      <td>17131</td>\n",
              "    </tr>\n",
              "    <tr>\n",
              "      <th>5</th>\n",
              "      <td>day</td>\n",
              "      <td>13628</td>\n",
              "    </tr>\n",
              "    <tr>\n",
              "      <th>6</th>\n",
              "      <td>life</td>\n",
              "      <td>12969</td>\n",
              "    </tr>\n",
              "    <tr>\n",
              "      <th>7</th>\n",
              "      <td>night</td>\n",
              "      <td>12349</td>\n",
              "    </tr>\n",
              "    <tr>\n",
              "      <th>8</th>\n",
              "      <td>girl</td>\n",
              "      <td>11907</td>\n",
              "    </tr>\n",
              "    <tr>\n",
              "      <th>9</th>\n",
              "      <td>thing</td>\n",
              "      <td>11580</td>\n",
              "    </tr>\n",
              "    <tr>\n",
              "      <th>10</th>\n",
              "      <td>world</td>\n",
              "      <td>10209</td>\n",
              "    </tr>\n",
              "    <tr>\n",
              "      <th>11</th>\n",
              "      <td>eye</td>\n",
              "      <td>9107</td>\n",
              "    </tr>\n",
              "    <tr>\n",
              "      <th>12</th>\n",
              "      <td>man</td>\n",
              "      <td>7154</td>\n",
              "    </tr>\n",
              "  </tbody>\n",
              "</table>\n",
              "</div>"
            ],
            "text/plain": [
              "     word  times\n",
              "0    love  36529\n",
              "1    time  22527\n",
              "2    baby  18065\n",
              "3     way  17735\n",
              "4   heart  17131\n",
              "5     day  13628\n",
              "6    life  12969\n",
              "7   night  12349\n",
              "8    girl  11907\n",
              "9   thing  11580\n",
              "10  world  10209\n",
              "11    eye   9107\n",
              "12    man   7154"
            ]
          },
          "metadata": {},
          "execution_count": 20
        }
      ]
    },
    {
      "cell_type": "code",
      "source": [
        "!pip install matplotlib-venn-wordcloud"
      ],
      "metadata": {
        "id": "FiF1xPu1q7p7",
        "colab": {
          "base_uri": "https://localhost:8080/"
        },
        "outputId": "275950bb-1de8-47e2-878f-ebec9eb6a1de"
      },
      "execution_count": 21,
      "outputs": [
        {
          "output_type": "stream",
          "name": "stdout",
          "text": [
            "Collecting matplotlib-venn-wordcloud\n",
            "  Downloading matplotlib_venn_wordcloud-0.2.5.tar.gz (8.7 kB)\n",
            "Requirement already satisfied: numpy in /usr/local/lib/python3.7/dist-packages (from matplotlib-venn-wordcloud) (1.19.5)\n",
            "Requirement already satisfied: matplotlib in /usr/local/lib/python3.7/dist-packages (from matplotlib-venn-wordcloud) (3.2.2)\n",
            "Requirement already satisfied: matplotlib-venn in /usr/local/lib/python3.7/dist-packages (from matplotlib-venn-wordcloud) (0.11.6)\n",
            "Requirement already satisfied: wordcloud in /usr/local/lib/python3.7/dist-packages (from matplotlib-venn-wordcloud) (1.5.0)\n",
            "Requirement already satisfied: kiwisolver>=1.0.1 in /usr/local/lib/python3.7/dist-packages (from matplotlib->matplotlib-venn-wordcloud) (1.3.2)\n",
            "Requirement already satisfied: pyparsing!=2.0.4,!=2.1.2,!=2.1.6,>=2.0.1 in /usr/local/lib/python3.7/dist-packages (from matplotlib->matplotlib-venn-wordcloud) (3.0.6)\n",
            "Requirement already satisfied: python-dateutil>=2.1 in /usr/local/lib/python3.7/dist-packages (from matplotlib->matplotlib-venn-wordcloud) (2.8.2)\n",
            "Requirement already satisfied: cycler>=0.10 in /usr/local/lib/python3.7/dist-packages (from matplotlib->matplotlib-venn-wordcloud) (0.11.0)\n",
            "Requirement already satisfied: six>=1.5 in /usr/local/lib/python3.7/dist-packages (from python-dateutil>=2.1->matplotlib->matplotlib-venn-wordcloud) (1.15.0)\n",
            "Requirement already satisfied: scipy in /usr/local/lib/python3.7/dist-packages (from matplotlib-venn->matplotlib-venn-wordcloud) (1.4.1)\n",
            "Requirement already satisfied: pillow in /usr/local/lib/python3.7/dist-packages (from wordcloud->matplotlib-venn-wordcloud) (7.1.2)\n",
            "Building wheels for collected packages: matplotlib-venn-wordcloud\n",
            "  Building wheel for matplotlib-venn-wordcloud (setup.py) ... \u001b[?25l\u001b[?25hdone\n",
            "  Created wheel for matplotlib-venn-wordcloud: filename=matplotlib_venn_wordcloud-0.2.5-py3-none-any.whl size=10810 sha256=b64f0aaf2c30f3b06077b778bd770b34ba3434be0681572c62421d421644b1cc\n",
            "  Stored in directory: /root/.cache/pip/wheels/b8/7e/25/80c14d2abb358c493d7772fe3a9370a7742fc1ae68968c33ef\n",
            "Successfully built matplotlib-venn-wordcloud\n",
            "Installing collected packages: matplotlib-venn-wordcloud\n",
            "Successfully installed matplotlib-venn-wordcloud-0.2.5\n"
          ]
        }
      ]
    },
    {
      "cell_type": "code",
      "source": [
        "# Create a wordcloud to visualize their word relationship\n",
        "from matplotlib_venn_wordcloud import venn2_wordcloud\n",
        "import matplotlib.pyplot as plt\n",
        "\n",
        "set1 = set(pop.word)\n",
        "set2 = set(new.word)\n",
        "\n",
        "%matplotlib inline\n",
        "venn2_wordcloud([set1, set2],('Pop lyrics', 'New lyrics'))\n",
        "plt.title('The frequent words', fontsize = 24)"
      ],
      "metadata": {
        "colab": {
          "base_uri": "https://localhost:8080/",
          "height": 302
        },
        "id": "6MH7NlheqUR2",
        "outputId": "888f44ea-91fe-4ecb-fc5c-a32eb506f58d"
      },
      "execution_count": 29,
      "outputs": [
        {
          "output_type": "execute_result",
          "data": {
            "text/plain": [
              "Text(0.5, 1.0, 'The frequent words')"
            ]
          },
          "metadata": {},
          "execution_count": 29
        },
        {
          "output_type": "display_data",
          "data": {
            "image/png": "[encoded data removed]",
            "text/plain": [
              "<Figure size 432x288 with 2 Axes>"
            ]
          },
          "metadata": {}
        }
      ]
    },
    {
      "cell_type": "markdown",
      "metadata": {
        "id": "nevOJHg471ga"
      },
      "source": [
        "### *Answer the question/explanation about the new lyrics (ca. 100 words)\n",
        "First, if we look at the new lyrics generally, we can find there are repeated verses and words that related to a story of love. Furthermore, if we compare these words with our analysis in step (1), we can discover there are quite similar common words in the lyrics of classic pop music as we can clearly see in the cloudplot.\n",
        "\n",
        "\n",
        "On the other hand, if we predict the new lyrics with the BERT model in step (2), we get the predicted outcome of \"Pop song.\" In conclusion, the new lyrics have similar features to pop genre and the validated classification result as a pop music. "
      ]
    },
    {
      "cell_type": "markdown",
      "metadata": {
        "id": "LQgupMLO7yn9"
      },
      "source": [
        "### *Interpretation and conclusion (ca. 200 words)\n",
        "In the step 1, we analyze the lyrics of the typical pop songs that have a lot of repeated words and sentences as hook. In addition, most of the topics and lyrics express feelings about love, life and relationship between people. It is also useful to select proper data when we discover the topic distribution with time series.\n",
        "\n",
        "In the step 2, we train a BERT model with 67% accuracy and predict the new lyrics as pop with 0.54 probability. However, I think the distinguished probability is not significant because pop song is actually a genre incorporating the popular materials and concepts from various music category. Sometimes the ambiguity of grey areas between music is hard for BERT to find the notable patterns of pop apart from other genres even by human sense, especially between pop and hip-pop.\n",
        "\n",
        "Overall, we can combine our discovered features of a typical pop song and the predict outcome of BERT to identify whether the new lyrics form the record producer are pop genre or not. In this case, the new lyrics have similar features to pop music and have a BERT predicted result of pop. Based on above analysis, in a data-driven way, I think the new lyrics can be reckon as pop genre."
      ]
    }
  ]
}