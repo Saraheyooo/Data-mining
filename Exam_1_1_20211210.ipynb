{
  "nbformat": 4,
  "nbformat_minor": 0,
  "metadata": {
    "colab": {
      "name": "Exam 1.1_20211209.ipynb",
      "provenance": [],
      "collapsed_sections": []
    },
    "kernelspec": {
      "name": "python3",
      "display_name": "Python 3"
    },
    "language_info": {
      "name": "python"
    }
  },
  "cells": [
    {
      "cell_type": "markdown",
      "metadata": {
        "id": "rygWUyhA87s1"
      },
      "source": [
        "# Exam text analysis \n",
        "Sarah Hsu (8264937)"
      ]
    },
    {
      "cell_type": "markdown",
      "metadata": {
        "id": "OFRmlWo08so4"
      },
      "source": [
        "### Question 1 \n",
        "Train a topic model on the description column in framing.p. Describe and explain your pre-processing steps and parameters.\n",
        "Choose two news media from the column netloc (e.g. vox.com and breit- bart.com) that are relevant to compare and explain your choice. Compare the topic proportions between those two news media. Try to explain your results, also given what you know about how the data set is constructed."
      ]
    },
    {
      "cell_type": "code",
      "metadata": {
        "colab": {
          "base_uri": "https://localhost:8080/"
        },
        "id": "--2Eoe_H83V5",
        "outputId": "beb65c4b-f76c-43dc-c5da-384fccc0f99c"
      },
      "source": [
        "from google.colab import drive\n",
        "drive.mount('/content/drive')"
      ],
      "execution_count": 1,
      "outputs": [
        {
          "output_type": "stream",
          "name": "stdout",
          "text": [
            "Mounted at /content/drive\n"
          ]
        }
      ]
    },
    {
      "cell_type": "code",
      "metadata": {
        "colab": {
          "base_uri": "https://localhost:8080/",
          "height": 538
        },
        "id": "p9hvT7nAANgD",
        "outputId": "8d6e6807-aa16-491e-8fee-8a9b344d8b52"
      },
      "source": [
        "import pandas as pd\n",
        "from pandas import DataFrame\n",
        "framing = pd.read_pickle('/content/drive/MyDrive/B2_Data Mining/Data/framing.p')\n",
        "framing.head()"
      ],
      "execution_count": 2,
      "outputs": [
        {
          "output_type": "execute_result",
          "data": {
            "text/html": [
              "<div>\n",
              "<style scoped>\n",
              "    .dataframe tbody tr th:only-of-type {\n",
              "        vertical-align: middle;\n",
              "    }\n",
              "\n",
              "    .dataframe tbody tr th {\n",
              "        vertical-align: top;\n",
              "    }\n",
              "\n",
              "    .dataframe thead th {\n",
              "        text-align: right;\n",
              "    }\n",
              "</style>\n",
              "<table border=\"1\" class=\"dataframe\">\n",
              "  <thead>\n",
              "    <tr style=\"text-align: right;\">\n",
              "      <th></th>\n",
              "      <th>tweet_id</th>\n",
              "      <th>date</th>\n",
              "      <th>user</th>\n",
              "      <th>party</th>\n",
              "      <th>state</th>\n",
              "      <th>chamber</th>\n",
              "      <th>tweet</th>\n",
              "      <th>news_mention</th>\n",
              "      <th>url_reference</th>\n",
              "      <th>netloc</th>\n",
              "      <th>title</th>\n",
              "      <th>description</th>\n",
              "      <th>label</th>\n",
              "    </tr>\n",
              "  </thead>\n",
              "  <tbody>\n",
              "    <tr>\n",
              "      <th>0</th>\n",
              "      <td>1325914751495499776</td>\n",
              "      <td>2020-11-09 21:34:45</td>\n",
              "      <td>SenShelby</td>\n",
              "      <td>R</td>\n",
              "      <td>Alabama</td>\n",
              "      <td>Senator</td>\n",
              "      <td>ICYMI – @BusinessInsider declared #Huntsville ...</td>\n",
              "      <td>businessinsider</td>\n",
              "      <td>https://www.businessinsider.com/personal-finan...</td>\n",
              "      <td>www.businessinsider.com</td>\n",
              "      <td>The 10 best US cities to move to if you want t...</td>\n",
              "      <td>The best US cities to move to if you want to s...</td>\n",
              "      <td></td>\n",
              "    </tr>\n",
              "    <tr>\n",
              "      <th>1</th>\n",
              "      <td>1294021087118987264</td>\n",
              "      <td>2020-08-13 21:20:43</td>\n",
              "      <td>SenShelby</td>\n",
              "      <td>R</td>\n",
              "      <td>Alabama</td>\n",
              "      <td>Senator</td>\n",
              "      <td>Great news! Today @mazda_toyota announced an a...</td>\n",
              "      <td></td>\n",
              "      <td>https://pressroom.toyota.com/mazda-and-toyota-...</td>\n",
              "      <td>pressroom.toyota.com</td>\n",
              "      <td>Mazda and Toyota Further Commitment to U.S. Ma...</td>\n",
              "      <td>HUNTSVILLE, Ala., (Aug. 13, 2020) – Today, Maz...</td>\n",
              "      <td></td>\n",
              "    </tr>\n",
              "    <tr>\n",
              "      <th>2</th>\n",
              "      <td>1323340848130609156</td>\n",
              "      <td>2020-11-02 19:06:59</td>\n",
              "      <td>DougJones</td>\n",
              "      <td>D</td>\n",
              "      <td>Alabama</td>\n",
              "      <td>Senator</td>\n",
              "      <td>He’s already quitting on the folks of Alabama ...</td>\n",
              "      <td></td>\n",
              "      <td>https://apnews.com/article/c73f0dfe8008ebaf85e...</td>\n",
              "      <td>apnews.com</td>\n",
              "      <td>Tuberville, Jones fight for Senate seat in Ala...</td>\n",
              "      <td>GARDENDALE, Ala. (AP) — U.S. Sen. Doug Jones, ...</td>\n",
              "      <td></td>\n",
              "    </tr>\n",
              "    <tr>\n",
              "      <th>3</th>\n",
              "      <td>1323004075831709698</td>\n",
              "      <td>2020-11-01 20:48:46</td>\n",
              "      <td>DougJones</td>\n",
              "      <td>D</td>\n",
              "      <td>Alabama</td>\n",
              "      <td>Senator</td>\n",
              "      <td>I know you guys are getting bombarded with fun...</td>\n",
              "      <td></td>\n",
              "      <td>https://secure.actblue.com/donate/djfs-close?r...</td>\n",
              "      <td>secure.actblue.com</td>\n",
              "      <td>I just gave!</td>\n",
              "      <td>Join us! Contribute today.</td>\n",
              "      <td>negiotated</td>\n",
              "    </tr>\n",
              "    <tr>\n",
              "      <th>4</th>\n",
              "      <td>1322567531320717314</td>\n",
              "      <td>2020-10-31 15:54:06</td>\n",
              "      <td>DougJones</td>\n",
              "      <td>D</td>\n",
              "      <td>Alabama</td>\n",
              "      <td>Senator</td>\n",
              "      <td>Well looky here folks, his own players don’t t...</td>\n",
              "      <td></td>\n",
              "      <td>https://slate.com/culture/2020/10/tommy-tuberv...</td>\n",
              "      <td>slate.com</td>\n",
              "      <td>What Tommy Tuberville’s Former Auburn Players ...</td>\n",
              "      <td>\"All I could think is, why?\"</td>\n",
              "      <td></td>\n",
              "    </tr>\n",
              "  </tbody>\n",
              "</table>\n",
              "</div>"
            ],
            "text/plain": [
              "              tweet_id  ...       label\n",
              "0  1325914751495499776  ...            \n",
              "1  1294021087118987264  ...            \n",
              "2  1323340848130609156  ...            \n",
              "3  1323004075831709698  ...  negiotated\n",
              "4  1322567531320717314  ...            \n",
              "\n",
              "[5 rows x 13 columns]"
            ]
          },
          "metadata": {},
          "execution_count": 2
        }
      ]
    },
    {
      "cell_type": "code",
      "source": [
        "# Take a look at the netloc column\n",
        "framing.netloc.value_counts().head(50)"
      ],
      "metadata": {
        "colab": {
          "base_uri": "https://localhost:8080/"
        },
        "id": "lxeVsm0xyhQs",
        "outputId": "53a2eaea-5447-428f-968f-9ade3722464e"
      },
      "execution_count": 3,
      "outputs": [
        {
          "output_type": "execute_result",
          "data": {
            "text/plain": [
              "www.nytimes.com               1508\n",
              "                              1092\n",
              "www.politico.com               623\n",
              "www.cnn.com                    602\n",
              "thehill.com                    550\n",
              "www.foxnews.com                549\n",
              "www.nbcnews.com                485\n",
              "nyti.ms                        422\n",
              "www.cnbc.com                   342\n",
              "cnn.it                         341\n",
              "secure.actblue.com             292\n",
              "apnews.com                     266\n",
              "hill.cm                        177\n",
              "trib.al                        177\n",
              "www.latimes.com                175\n",
              "apne.ws                        163\n",
              "abcn.ws                        141\n",
              "www.vox.com                    141\n",
              "www.cbsnews.com                140\n",
              "www.theatlantic.com            138\n",
              "www.axios.com                  136\n",
              "nbcnews.to                     133\n",
              "www.foxbusiness.com            130\n",
              "www.washingtonexaminer.com     128\n",
              "nypost.com                     128\n",
              "www.reuters.com                123\n",
              "buff.ly                        118\n",
              "www.dallasnews.com             112\n",
              "abcnews.go.com                 111\n",
              "www.nationalreview.com         110\n",
              "medium.com                     109\n",
              "www.theguardian.com            108\n",
              "www.forbes.com                 107\n",
              "www.nj.com                     106\n",
              "www.breitbart.com              105\n",
              "www.inquirer.com               104\n",
              "fxn.ws                         101\n",
              "www.wsj.com                     97\n",
              "www.bostonglobe.com             96\n",
              "thefederalist.com               93\n",
              "cnb.cx                          88\n",
              "dailycaller.com                 85\n",
              "podcasts.apple.com              85\n",
              "reut.rs                         77\n",
              "www.startribune.com             77\n",
              "www.azcentral.com               70\n",
              "washex.am                       69\n",
              "politi.co                       69\n",
              "www.buzzfeednews.com            68\n",
              "www.businessinsider.com         67\n",
              "Name: netloc, dtype: int64"
            ]
          },
          "metadata": {},
          "execution_count": 3
        }
      ]
    },
    {
      "cell_type": "markdown",
      "source": [
        "### *Motivation of the two news media (50 words)\n",
        "I decide to choose the online media of 'www.foxbusiness.com' and 'www.businessinsider.com' because the both platforms are generally discuss about business topics but with different location bases. Fox Business is launched by American company and more financial reports are related to American business, whereas the Business Insider are more based on Europe economy. They are both business-oriented media but with different background by regions. I think it will be interesting to gain insight into their relationship between different topics as well as the similarity within same topic."
      ],
      "metadata": {
        "id": "LQh1ncvTyq3k"
      }
    },
    {
      "cell_type": "code",
      "metadata": {
        "id": "jFo0qR_bF6p3"
      },
      "source": [
        "# Pre-processing with Spacy package\n",
        "import spacy\n",
        "alldesc = framing.description.values\n",
        "\n",
        "nlp = spacy.load(\"en_core_web_sm\")\n",
        "processed_texts = [text for text in nlp.pipe(alldesc, \n",
        "                                              disable=[\"ner\",\n",
        "                                                       \"parser\"])]\n",
        "framing['processed_texts'] = processed_texts #add processed_texts to a new column\n",
        "\n",
        "# Tokenization, lemmatization, removing stop word, removing punctuations and filtering word type(nouns)\n",
        "tokenized_texts_desc = [[word.lemma_.lower() for word in processed_text if word.pos_ == 'NOUN' \n",
        "                                and not word.is_stop and not word.is_punct] for processed_text in processed_texts]"
      ],
      "execution_count": null,
      "outputs": []
    },
    {
      "cell_type": "code",
      "metadata": {
        "id": "RJn_VLKbFviK"
      },
      "source": [
        "# Vectorization\n",
        "from gensim.corpora import Dictionary\n",
        "\n",
        "# Create a dictionary and filter out the words that occur less than two times, and all words that occur in over 70% of the documents.\n",
        "MIN_DF = 2 # minium document frequency\n",
        "MAX_DF = 0.7 # maximum document frequency\n",
        "\n",
        "tokenized_texts = tokenized_texts_desc\n",
        "dictionary = Dictionary(tokenized_texts) # get the vocabulary\n",
        "dictionary.filter_extremes(no_below=MIN_DF, \n",
        "                           no_above=MAX_DF)\n",
        "corpus = [dictionary.doc2bow(text) for text in tokenized_texts]"
      ],
      "execution_count": null,
      "outputs": []
    },
    {
      "cell_type": "markdown",
      "metadata": {
        "id": "EK12iDU7sw4C"
      },
      "source": [
        "### *Explanation of preprocessing steps + parameters (150 words)\n",
        "In order to train a topic model on the description column, firstly, I tokenize the texts in description with Spacy package.\n",
        "\n",
        "To have clear tokens without unmeaningful words and repetitive words, I remove stop word and do lemmatization to analyze the words with the same root. Additionally, I only select the noun word type because it is much easier to look into the subjects and topics discussion in the sentiences. Finally, I put the all the above functions together to make the code clear and save some time.\n",
        "\n",
        "After I get the tokens, I do vectorization and create a dictionary.\n",
        "I set two parameters to select the frequency of a word. I set `MIN_DF = 2` – only keep a word occurring in at least two documents that we can see the relation between different topics. `MAX_DF = 0.7` -- only include a word has to occur in less than 70% of the document that we can filter out some words are not useful.\n"
      ]
    },
    {
      "cell_type": "markdown",
      "source": [
        "### Train a topic model with description"
      ],
      "metadata": {
        "id": "dNBJdNio2-8K"
      }
    },
    {
      "cell_type": "code",
      "metadata": {
        "id": "zmUFLWWvPR7T"
      },
      "source": [
        "import os   \n",
        "\n",
        "!pip uninstall gensim\n",
        "!pip install gensim==3.8.3\n",
        "\n",
        "def install_java():\n",
        "  !apt-get install -y openjdk-8-jdk-headless -qq > /dev/null      \n",
        "  os.environ[\"JAVA_HOME\"] = \"/usr/lib/jvm/java-8-openjdk-amd64\"    \n",
        "  !java -version\n",
        "install_java()\n",
        "\n",
        "\n",
        "!wget http://mallet.cs.umass.edu/dist/mallet-2.0.8.zip\n",
        "!unzip mallet-2.0.8.zip\n",
        "\n",
        "!python -m spacy download nl_core_news_sm"
      ],
      "execution_count": null,
      "outputs": []
    },
    {
      "cell_type": "code",
      "metadata": {
        "id": "12-i4GHLOG6r"
      },
      "source": [
        "# Train the topic model\n",
        "from gensim.models.wrappers import LdaMallet\n",
        "\n",
        "PATH_TO_MALLET = 'mallet-2.0.8/bin/mallet'\n",
        "\n",
        "N_TOPICS = 8 # k = 8: run a topic model with 8 topics\n",
        "N_ITERATIONS = 1000\n",
        "\n",
        "lda = LdaMallet(PATH_TO_MALLET,\n",
        "                corpus=corpus,\n",
        "                id2word=dictionary,\n",
        "                num_topics=N_TOPICS,\n",
        "                optimize_interval=10, \n",
        "                iterations=N_ITERATIONS) "
      ],
      "execution_count": null,
      "outputs": []
    },
    {
      "cell_type": "code",
      "metadata": {
        "colab": {
          "base_uri": "https://localhost:8080/",
          "height": 206
        },
        "id": "x7zuh8-ZP4Sf",
        "outputId": "48d85ad6-380c-4b0b-b0cd-105024a6a557"
      },
      "source": [
        "# Show the top 10 words with the highest probabilities in the first topic:\n",
        "TOPIC = 0 # choose the first topic\n",
        "MAX_WORDS = 10 # get 10 words\n",
        "words = lda.show_topic(TOPIC, topn=MAX_WORDS) \n",
        "\n",
        "# Put it into a DataFrame\n",
        "words = lda.show_topic(TOPIC, topn=len(dictionary)) # get all the words\n",
        "df = pd.DataFrame(words, columns=['word', 'prop']) \n",
        "df.sort_values('prop', ascending=False).head()"
      ],
      "execution_count": null,
      "outputs": [
        {
          "output_type": "execute_result",
          "data": {
            "text/html": [
              "<div>\n",
              "<style scoped>\n",
              "    .dataframe tbody tr th:only-of-type {\n",
              "        vertical-align: middle;\n",
              "    }\n",
              "\n",
              "    .dataframe tbody tr th {\n",
              "        vertical-align: top;\n",
              "    }\n",
              "\n",
              "    .dataframe thead th {\n",
              "        text-align: right;\n",
              "    }\n",
              "</style>\n",
              "<table border=\"1\" class=\"dataframe\">\n",
              "  <thead>\n",
              "    <tr style=\"text-align: right;\">\n",
              "      <th></th>\n",
              "      <th>word</th>\n",
              "      <th>prop</th>\n",
              "    </tr>\n",
              "  </thead>\n",
              "  <tbody>\n",
              "    <tr>\n",
              "      <th>0</th>\n",
              "      <td>case</td>\n",
              "      <td>0.030320</td>\n",
              "    </tr>\n",
              "    <tr>\n",
              "      <th>1</th>\n",
              "      <td>state</td>\n",
              "      <td>0.029322</td>\n",
              "    </tr>\n",
              "    <tr>\n",
              "      <th>2</th>\n",
              "      <td>week</td>\n",
              "      <td>0.024456</td>\n",
              "    </tr>\n",
              "    <tr>\n",
              "      <th>3</th>\n",
              "      <td>pandemic</td>\n",
              "      <td>0.022771</td>\n",
              "    </tr>\n",
              "    <tr>\n",
              "      <th>4</th>\n",
              "      <td>people</td>\n",
              "      <td>0.019589</td>\n",
              "    </tr>\n",
              "  </tbody>\n",
              "</table>\n",
              "</div>"
            ],
            "text/plain": [
              "       word      prop\n",
              "0      case  0.030320\n",
              "1     state  0.029322\n",
              "2      week  0.024456\n",
              "3  pandemic  0.022771\n",
              "4    people  0.019589"
            ]
          },
          "metadata": {},
          "execution_count": 81
        }
      ]
    },
    {
      "cell_type": "code",
      "metadata": {
        "colab": {
          "base_uri": "https://localhost:8080/"
        },
        "id": "cjr4ljmAQIMP",
        "outputId": "d6a7bcfe-eac6-4291-f9eb-56c077d90366"
      },
      "source": [
        "# Show the key words in each topic\n",
        "for topic in range(N_TOPICS):\n",
        "    words = lda.show_topic(topic, 10)\n",
        "    topic_n_words = ' '.join([word[0] for word in words])\n",
        "    print('Topic {}: {}'.format(str(topic), topic_n_words))"
      ],
      "execution_count": null,
      "outputs": [
        {
          "output_type": "stream",
          "name": "stdout",
          "text": [
            "Topic 0: case state week pandemic people administration official number country unemployment\n",
            "Topic 1: member president veteran policy issue nominee intelligence service group leader\n",
            "Topic 2: election mail ballot voter voting vote official state today woman\n",
            "Topic 3: school student year family child woman information decade time million\n",
            "Topic 4: health care vaccine people pandemic study percent drug flu virus\n",
            "Topic 5: bill relief year business support legislation state pandemic program crisis\n",
            "Topic 6: police news city officer fire day year people night organization\n",
            "Topic 7: climate company program year administration change industry energy state country\n"
          ]
        }
      ]
    },
    {
      "cell_type": "markdown",
      "metadata": {
        "id": "XyXPZaSZ94St"
      },
      "source": [
        "I find there are some overlaps of words between topics if I select too much topics. So I just set `N_TOPICS = 8` to get only 8 topics but with notable features in each one.\n",
        "\n",
        "In order to make it easiler to see the relationship in the following analysis, I give a label to these topics based on the key words in each topics above. Topic 0:society. 1:policy. 2: election. 3: education. 4: health. 5: economic. 6:employment 7:climate."
      ]
    },
    {
      "cell_type": "markdown",
      "metadata": {
        "id": "5dW7jZh58H5W"
      },
      "source": [
        "##Comparing the topics between Fox Business and Business Insider"
      ]
    },
    {
      "cell_type": "code",
      "metadata": {
        "colab": {
          "base_uri": "https://localhost:8080/",
          "height": 206
        },
        "id": "If4cyjwoQiEH",
        "outputId": "7800c534-4317-48d3-e949-62acff950173"
      },
      "source": [
        "import pandas as pd\n",
        "label = {0:'society', 1:'policy', 2: 'election', 3: 'education', 4: 'health', 5: 'economic', 6:'employment', 7:'climate'}\n",
        "\n",
        "transformed_docs = lda.load_document_topics()\n",
        "\n",
        "# Put the labels into DataFrame\n",
        "topic_distributions = pd.DataFrame([[x[1] for x in doc] for doc in transformed_docs], \n",
        "             columns=[label[i] for i in range(N_TOPICS)])\n",
        "topic_distributions.head()"
      ],
      "execution_count": null,
      "outputs": [
        {
          "output_type": "execute_result",
          "data": {
            "text/html": [
              "<div>\n",
              "<style scoped>\n",
              "    .dataframe tbody tr th:only-of-type {\n",
              "        vertical-align: middle;\n",
              "    }\n",
              "\n",
              "    .dataframe tbody tr th {\n",
              "        vertical-align: top;\n",
              "    }\n",
              "\n",
              "    .dataframe thead th {\n",
              "        text-align: right;\n",
              "    }\n",
              "</style>\n",
              "<table border=\"1\" class=\"dataframe\">\n",
              "  <thead>\n",
              "    <tr style=\"text-align: right;\">\n",
              "      <th></th>\n",
              "      <th>society</th>\n",
              "      <th>policy</th>\n",
              "      <th>election</th>\n",
              "      <th>education</th>\n",
              "      <th>health</th>\n",
              "      <th>economic</th>\n",
              "      <th>employment</th>\n",
              "      <th>climate</th>\n",
              "    </tr>\n",
              "  </thead>\n",
              "  <tbody>\n",
              "    <tr>\n",
              "      <th>0</th>\n",
              "      <td>0.023576</td>\n",
              "      <td>0.020257</td>\n",
              "      <td>0.032610</td>\n",
              "      <td>0.015734</td>\n",
              "      <td>0.017013</td>\n",
              "      <td>0.845032</td>\n",
              "      <td>0.023556</td>\n",
              "      <td>0.022222</td>\n",
              "    </tr>\n",
              "    <tr>\n",
              "      <th>1</th>\n",
              "      <td>0.004618</td>\n",
              "      <td>0.003968</td>\n",
              "      <td>0.006387</td>\n",
              "      <td>0.003082</td>\n",
              "      <td>0.003332</td>\n",
              "      <td>0.004689</td>\n",
              "      <td>0.004614</td>\n",
              "      <td>0.969310</td>\n",
              "    </tr>\n",
              "    <tr>\n",
              "      <th>2</th>\n",
              "      <td>0.016714</td>\n",
              "      <td>0.014361</td>\n",
              "      <td>0.023118</td>\n",
              "      <td>0.884318</td>\n",
              "      <td>0.012061</td>\n",
              "      <td>0.016973</td>\n",
              "      <td>0.016700</td>\n",
              "      <td>0.015754</td>\n",
              "    </tr>\n",
              "    <tr>\n",
              "      <th>3</th>\n",
              "      <td>0.023576</td>\n",
              "      <td>0.020257</td>\n",
              "      <td>0.032610</td>\n",
              "      <td>0.426280</td>\n",
              "      <td>0.017013</td>\n",
              "      <td>0.434486</td>\n",
              "      <td>0.023556</td>\n",
              "      <td>0.022222</td>\n",
              "    </tr>\n",
              "    <tr>\n",
              "      <th>4</th>\n",
              "      <td>0.023576</td>\n",
              "      <td>0.020257</td>\n",
              "      <td>0.032610</td>\n",
              "      <td>0.015734</td>\n",
              "      <td>0.427558</td>\n",
              "      <td>0.023941</td>\n",
              "      <td>0.023556</td>\n",
              "      <td>0.432767</td>\n",
              "    </tr>\n",
              "  </tbody>\n",
              "</table>\n",
              "</div>"
            ],
            "text/plain": [
              "    society    policy  election  ...  economic  employment   climate\n",
              "0  0.023576  0.020257  0.032610  ...  0.845032    0.023556  0.022222\n",
              "1  0.004618  0.003968  0.006387  ...  0.004689    0.004614  0.969310\n",
              "2  0.016714  0.014361  0.023118  ...  0.016973    0.016700  0.015754\n",
              "3  0.023576  0.020257  0.032610  ...  0.434486    0.023556  0.022222\n",
              "4  0.023576  0.020257  0.032610  ...  0.023941    0.023556  0.432767\n",
              "\n",
              "[5 rows x 8 columns]"
            ]
          },
          "metadata": {},
          "execution_count": 83
        }
      ]
    },
    {
      "cell_type": "code",
      "metadata": {
        "colab": {
          "base_uri": "https://localhost:8080/",
          "height": 380
        },
        "id": "8PKx_2eSQ6oe",
        "outputId": "e0c98dfa-262c-42b0-9c1a-d216cf778c58"
      },
      "source": [
        "# Combine netlog(Fox Business & Business Insider) and topic_distributions to analyze the differences\n",
        "framing2 = framing[(framing.netloc == 'www.foxbusiness.com') | (framing.netloc =='www.businessinsider.com')]\n",
        "framing2 = framing2[['netloc','description','processed_texts']]\n",
        "\n",
        "joined_topic_dist = framing2.reset_index().join(topic_distributions)\n",
        "joined_topic_dist.head()"
      ],
      "execution_count": null,
      "outputs": [
        {
          "output_type": "execute_result",
          "data": {
            "text/html": [
              "<div>\n",
              "<style scoped>\n",
              "    .dataframe tbody tr th:only-of-type {\n",
              "        vertical-align: middle;\n",
              "    }\n",
              "\n",
              "    .dataframe tbody tr th {\n",
              "        vertical-align: top;\n",
              "    }\n",
              "\n",
              "    .dataframe thead th {\n",
              "        text-align: right;\n",
              "    }\n",
              "</style>\n",
              "<table border=\"1\" class=\"dataframe\">\n",
              "  <thead>\n",
              "    <tr style=\"text-align: right;\">\n",
              "      <th></th>\n",
              "      <th>index</th>\n",
              "      <th>netloc</th>\n",
              "      <th>description</th>\n",
              "      <th>processed_texts</th>\n",
              "      <th>society</th>\n",
              "      <th>policy</th>\n",
              "      <th>election</th>\n",
              "      <th>education</th>\n",
              "      <th>health</th>\n",
              "      <th>economic</th>\n",
              "      <th>employment</th>\n",
              "      <th>climate</th>\n",
              "    </tr>\n",
              "  </thead>\n",
              "  <tbody>\n",
              "    <tr>\n",
              "      <th>0</th>\n",
              "      <td>0</td>\n",
              "      <td>www.businessinsider.com</td>\n",
              "      <td>The best US cities to move to if you want to s...</td>\n",
              "      <td>(The, best, US, cities, to, move, to, if, you,...</td>\n",
              "      <td>0.023576</td>\n",
              "      <td>0.020257</td>\n",
              "      <td>0.032610</td>\n",
              "      <td>0.015734</td>\n",
              "      <td>0.017013</td>\n",
              "      <td>0.845032</td>\n",
              "      <td>0.023556</td>\n",
              "      <td>0.022222</td>\n",
              "    </tr>\n",
              "    <tr>\n",
              "      <th>1</th>\n",
              "      <td>148</td>\n",
              "      <td>www.foxbusiness.com</td>\n",
              "      <td>EXCLUSIVE: The Paycheck Protection Program sup...</td>\n",
              "      <td>(EXCLUSIVE, :, The, Paycheck, Protection, Prog...</td>\n",
              "      <td>0.004618</td>\n",
              "      <td>0.003968</td>\n",
              "      <td>0.006387</td>\n",
              "      <td>0.003082</td>\n",
              "      <td>0.003332</td>\n",
              "      <td>0.004689</td>\n",
              "      <td>0.004614</td>\n",
              "      <td>0.969310</td>\n",
              "    </tr>\n",
              "    <tr>\n",
              "      <th>2</th>\n",
              "      <td>240</td>\n",
              "      <td>www.foxbusiness.com</td>\n",
              "      <td>When we launched Operation Warp Speed (OWS) sk...</td>\n",
              "      <td>(When, we, launched, Operation, Warp, Speed, (...</td>\n",
              "      <td>0.016714</td>\n",
              "      <td>0.014361</td>\n",
              "      <td>0.023118</td>\n",
              "      <td>0.884318</td>\n",
              "      <td>0.012061</td>\n",
              "      <td>0.016973</td>\n",
              "      <td>0.016700</td>\n",
              "      <td>0.015754</td>\n",
              "    </tr>\n",
              "    <tr>\n",
              "      <th>3</th>\n",
              "      <td>421</td>\n",
              "      <td>www.foxbusiness.com</td>\n",
              "      <td>The Labor Department's payroll report released...</td>\n",
              "      <td>(The, Labor, Department, 's, payroll, report, ...</td>\n",
              "      <td>0.023576</td>\n",
              "      <td>0.020257</td>\n",
              "      <td>0.032610</td>\n",
              "      <td>0.426280</td>\n",
              "      <td>0.017013</td>\n",
              "      <td>0.434486</td>\n",
              "      <td>0.023556</td>\n",
              "      <td>0.022222</td>\n",
              "    </tr>\n",
              "    <tr>\n",
              "      <th>4</th>\n",
              "      <td>429</td>\n",
              "      <td>www.foxbusiness.com</td>\n",
              "      <td>Sen. Martha McSally wants to make China pay th...</td>\n",
              "      <td>(Sen., Martha, McSally, wants, to, make, China...</td>\n",
              "      <td>0.023576</td>\n",
              "      <td>0.020257</td>\n",
              "      <td>0.032610</td>\n",
              "      <td>0.015734</td>\n",
              "      <td>0.427558</td>\n",
              "      <td>0.023941</td>\n",
              "      <td>0.023556</td>\n",
              "      <td>0.432767</td>\n",
              "    </tr>\n",
              "  </tbody>\n",
              "</table>\n",
              "</div>"
            ],
            "text/plain": [
              "   index                   netloc  ... employment   climate\n",
              "0      0  www.businessinsider.com  ...   0.023556  0.022222\n",
              "1    148      www.foxbusiness.com  ...   0.004614  0.969310\n",
              "2    240      www.foxbusiness.com  ...   0.016700  0.015754\n",
              "3    421      www.foxbusiness.com  ...   0.023556  0.022222\n",
              "4    429      www.foxbusiness.com  ...   0.023556  0.432767\n",
              "\n",
              "[5 rows x 12 columns]"
            ]
          },
          "metadata": {},
          "execution_count": 84
        }
      ]
    },
    {
      "cell_type": "code",
      "metadata": {
        "colab": {
          "base_uri": "https://localhost:8080/",
          "height": 144
        },
        "id": "RQVbPiyeUgue",
        "outputId": "9212f417-3720-438f-c726-baccb1f2ba60"
      },
      "source": [
        "# Compare the mean topic proportions of Fox Business and Business Insider\n",
        "grouped_by_netloc = joined_topic_dist.groupby('netloc').mean()\n",
        "grouped_by_netloc.head()"
      ],
      "execution_count": null,
      "outputs": [
        {
          "output_type": "execute_result",
          "data": {
            "text/html": [
              "<div>\n",
              "<style scoped>\n",
              "    .dataframe tbody tr th:only-of-type {\n",
              "        vertical-align: middle;\n",
              "    }\n",
              "\n",
              "    .dataframe tbody tr th {\n",
              "        vertical-align: top;\n",
              "    }\n",
              "\n",
              "    .dataframe thead th {\n",
              "        text-align: right;\n",
              "    }\n",
              "</style>\n",
              "<table border=\"1\" class=\"dataframe\">\n",
              "  <thead>\n",
              "    <tr style=\"text-align: right;\">\n",
              "      <th></th>\n",
              "      <th>index</th>\n",
              "      <th>society</th>\n",
              "      <th>policy</th>\n",
              "      <th>election</th>\n",
              "      <th>education</th>\n",
              "      <th>health</th>\n",
              "      <th>economic</th>\n",
              "      <th>employment</th>\n",
              "      <th>climate</th>\n",
              "    </tr>\n",
              "    <tr>\n",
              "      <th>netloc</th>\n",
              "      <th></th>\n",
              "      <th></th>\n",
              "      <th></th>\n",
              "      <th></th>\n",
              "      <th></th>\n",
              "      <th></th>\n",
              "      <th></th>\n",
              "      <th></th>\n",
              "      <th></th>\n",
              "    </tr>\n",
              "  </thead>\n",
              "  <tbody>\n",
              "    <tr>\n",
              "      <th>www.businessinsider.com</th>\n",
              "      <td>14786.194030</td>\n",
              "      <td>0.098390</td>\n",
              "      <td>0.082508</td>\n",
              "      <td>0.164282</td>\n",
              "      <td>0.061943</td>\n",
              "      <td>0.087757</td>\n",
              "      <td>0.147451</td>\n",
              "      <td>0.233196</td>\n",
              "      <td>0.124474</td>\n",
              "    </tr>\n",
              "    <tr>\n",
              "      <th>www.foxbusiness.com</th>\n",
              "      <td>17659.653846</td>\n",
              "      <td>0.117665</td>\n",
              "      <td>0.108417</td>\n",
              "      <td>0.135362</td>\n",
              "      <td>0.116257</td>\n",
              "      <td>0.062853</td>\n",
              "      <td>0.127017</td>\n",
              "      <td>0.203259</td>\n",
              "      <td>0.129171</td>\n",
              "    </tr>\n",
              "  </tbody>\n",
              "</table>\n",
              "</div>"
            ],
            "text/plain": [
              "                                index   society  ...  employment   climate\n",
              "netloc                                           ...                      \n",
              "www.businessinsider.com  14786.194030  0.098390  ...    0.233196  0.124474\n",
              "www.foxbusiness.com      17659.653846  0.117665  ...    0.203259  0.129171\n",
              "\n",
              "[2 rows x 9 columns]"
            ]
          },
          "metadata": {},
          "execution_count": 85
        }
      ]
    },
    {
      "cell_type": "markdown",
      "source": [
        "### Visdualization"
      ],
      "metadata": {
        "id": "YRQsLcdG23iS"
      }
    },
    {
      "cell_type": "code",
      "source": [
        "!pip install matplotlib"
      ],
      "metadata": {
        "colab": {
          "base_uri": "https://localhost:8080/"
        },
        "id": "sw0z5sJd58uI",
        "outputId": "28ce88d1-fc04-4c06-ee65-11235018fc2f"
      },
      "execution_count": null,
      "outputs": [
        {
          "output_type": "stream",
          "name": "stdout",
          "text": [
            "Requirement already satisfied: matplotlib in /usr/local/lib/python3.7/dist-packages (3.2.2)\n",
            "Requirement already satisfied: python-dateutil>=2.1 in /usr/local/lib/python3.7/dist-packages (from matplotlib) (2.8.2)\n",
            "Requirement already satisfied: numpy>=1.11 in /usr/local/lib/python3.7/dist-packages (from matplotlib) (1.19.5)\n",
            "Requirement already satisfied: pyparsing!=2.0.4,!=2.1.2,!=2.1.6,>=2.0.1 in /usr/local/lib/python3.7/dist-packages (from matplotlib) (3.0.6)\n",
            "Requirement already satisfied: kiwisolver>=1.0.1 in /usr/local/lib/python3.7/dist-packages (from matplotlib) (1.3.2)\n",
            "Requirement already satisfied: cycler>=0.10 in /usr/local/lib/python3.7/dist-packages (from matplotlib) (0.11.0)\n",
            "Requirement already satisfied: six>=1.5 in /usr/local/lib/python3.7/dist-packages (from python-dateutil>=2.1->matplotlib) (1.15.0)\n"
          ]
        }
      ]
    },
    {
      "cell_type": "code",
      "source": [
        "# Visdualization the relationship\n",
        "import matplotlib.pyplot as plt\n",
        "\n",
        "media = grouped_by_netloc.transpose()\n",
        "\n",
        "plt.figure(figsize=(10,6))\n",
        "plt.plot(media.iloc[1:,0], label= \"businessinsider.com\", color='red', marker='o')\n",
        "plt.plot(media.iloc[1:,1], label= \"foxbusiness.com\", color='blue', marker='o')\n",
        "\n",
        "plt.title('Topic distribution between Business Insider and Fox Business', fontsize=16)\n",
        "plt.legend(fontsize=12)\n",
        "plt.show()"
      ],
      "metadata": {
        "colab": {
          "base_uri": "https://localhost:8080/",
          "height": 392
        },
        "id": "ufz58tUn59R9",
        "outputId": "97486efb-135b-46f3-9078-492afd6e5b99"
      },
      "execution_count": null,
      "outputs": [
        {
          "output_type": "display_data",
          "data": {
            "image/png": "[encoded data removed]",
            "text/plain": [
              "<Figure size 720x432 with 1 Axes>"
            ]
          },
          "metadata": {
            "needs_background": "light"
          }
        }
      ]
    },
    {
      "cell_type": "markdown",
      "metadata": {
        "id": "uNiuK-kn5YXh"
      },
      "source": [
        "###*Interpretation and discussion (ca. 200 words)\n",
        "Given a label to each topic, we can clearly see the topic distribution between Business Insider and Fox Business in the eight topics [society, policy, election, education, health, economic, employment, climate].\n",
        "First, as both of Business Insider and Fox Business are business-oriented platforms, it is striking that they have the similar topic distribution across thses topics. Additionally, they both have the highest proportions in discussing employment and election whereas lower proportions in health issues. In this case, I assuem that a majority of people reviewing these two media are more focus on the infomation of employment and election news.\n",
        "\n",
        "However, there are also some notable differeces between the two media. For example, Business Insider care much less about education topic compared to Fox Business which still hold at average level in general. In my opinion, the reason might \baccording to their regions with different educational policies and culture between America and Europe.  \n",
        "\n",
        "In conclution, with topic modeling method, we can look into the main issues in a medium. Furthermore, we can compare the topic distribution with another medium which we are curious about. It provides us useful data to shed lights on the relationship between media and topics in diverse aspects."
      ]
    }
  ]
}