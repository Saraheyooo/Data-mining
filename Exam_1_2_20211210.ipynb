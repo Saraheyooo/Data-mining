{
  "nbformat": 4,
  "nbformat_minor": 0,
  "metadata": {
    "colab": {
      "name": "Exam_1_2_20211210.ipynb",
      "provenance": [],
      "collapsed_sections": []
    },
    "kernelspec": {
      "name": "python3",
      "display_name": "Python 3"
    },
    "language_info": {
      "name": "python"
    }
  },
  "cells": [
    {
      "cell_type": "markdown",
      "metadata": {
        "id": "NkZICKzCOHFP"
      },
      "source": [
        "# Exam text analysis \n",
        "Sarah Hsu (8264937)"
      ]
    },
    {
      "cell_type": "markdown",
      "metadata": {
        "id": "ufJco6aniMwd"
      },
      "source": [
        "## Question 2\n",
        "Choose two shows from discussions.p and compare the gender bias in the discussions on both shows. Explain why the two shows you choose are relevant to compare in this context and formulate a hypothesis.\n",
        "Train two word embeddings models (one for each show). Compile a list of male and female related words that you deem relevant for your corpus and compare the gender biases between the discussions on the two shows you choose, using the method of the paper by Wevers. Interpret the results, relate them to your hypothesis, and discuss whether your results say something about the shows themselves or about the discussions on these shows."
      ]
    },
    {
      "cell_type": "code",
      "metadata": {
        "colab": {
          "base_uri": "https://localhost:8080/"
        },
        "id": "6niL8h1rOHnr",
        "outputId": "74693cd2-2d15-45e6-f55c-21c9f0bdc1ac"
      },
      "source": [
        "from google.colab import drive\n",
        "drive.mount('/content/drive')"
      ],
      "execution_count": null,
      "outputs": [
        {
          "output_type": "stream",
          "name": "stdout",
          "text": [
            "Mounted at /content/drive\n"
          ]
        }
      ]
    },
    {
      "cell_type": "code",
      "metadata": {
        "colab": {
          "base_uri": "https://localhost:8080/",
          "height": 206
        },
        "id": "E0RaI_bQONS8",
        "outputId": "71c90829-38e0-4fa1-f21e-13996189f2d1"
      },
      "source": [
        "import pandas as pd\n",
        "from pandas import DataFrame\n",
        "discussions = pd.read_pickle('/content/drive/MyDrive/B2_Data Mining/Data/discussions.p')\n",
        "discussions = discussions\n",
        "discussions.head()"
      ],
      "execution_count": null,
      "outputs": [
        {
          "output_type": "execute_result",
          "data": {
            "text/html": [
              "<div>\n",
              "<style scoped>\n",
              "    .dataframe tbody tr th:only-of-type {\n",
              "        vertical-align: middle;\n",
              "    }\n",
              "\n",
              "    .dataframe tbody tr th {\n",
              "        vertical-align: top;\n",
              "    }\n",
              "\n",
              "    .dataframe thead th {\n",
              "        text-align: right;\n",
              "    }\n",
              "</style>\n",
              "<table border=\"1\" class=\"dataframe\">\n",
              "  <thead>\n",
              "    <tr style=\"text-align: right;\">\n",
              "      <th></th>\n",
              "      <th>title</th>\n",
              "      <th>type</th>\n",
              "      <th>year</th>\n",
              "      <th>post</th>\n",
              "    </tr>\n",
              "  </thead>\n",
              "  <tbody>\n",
              "    <tr>\n",
              "      <th>0</th>\n",
              "      <td>Better Call Saul</td>\n",
              "      <td>linear</td>\n",
              "      <td>2017</td>\n",
              "      <td>Walter. And there the chain ends.</td>\n",
              "    </tr>\n",
              "    <tr>\n",
              "      <th>1</th>\n",
              "      <td>Better Call Saul</td>\n",
              "      <td>linear</td>\n",
              "      <td>2016</td>\n",
              "      <td>I love this show. But it's hard to argue again...</td>\n",
              "    </tr>\n",
              "    <tr>\n",
              "      <th>2</th>\n",
              "      <td>Better Call Saul</td>\n",
              "      <td>linear</td>\n",
              "      <td>2017</td>\n",
              "      <td>What am I missing?  A lot of reference to ribs...</td>\n",
              "    </tr>\n",
              "    <tr>\n",
              "      <th>3</th>\n",
              "      <td>Better Call Saul</td>\n",
              "      <td>linear</td>\n",
              "      <td>2018</td>\n",
              "      <td>Oh come on Mike, he's a good little boy.</td>\n",
              "    </tr>\n",
              "    <tr>\n",
              "      <th>4</th>\n",
              "      <td>Better Call Saul</td>\n",
              "      <td>linear</td>\n",
              "      <td>2017</td>\n",
              "      <td>Look again 👀</td>\n",
              "    </tr>\n",
              "  </tbody>\n",
              "</table>\n",
              "</div>"
            ],
            "text/plain": [
              "              title  ...                                               post\n",
              "0  Better Call Saul  ...                  Walter. And there the chain ends.\n",
              "1  Better Call Saul  ...  I love this show. But it's hard to argue again...\n",
              "2  Better Call Saul  ...  What am I missing?  A lot of reference to ribs...\n",
              "3  Better Call Saul  ...          Oh come on Mike, he's a good little boy. \n",
              "4  Better Call Saul  ...                                       Look again 👀\n",
              "\n",
              "[5 rows x 4 columns]"
            ]
          },
          "metadata": {},
          "execution_count": 3
        }
      ]
    },
    {
      "cell_type": "code",
      "metadata": {
        "colab": {
          "base_uri": "https://localhost:8080/",
          "height": 707
        },
        "id": "Is-IZ650Pb41",
        "outputId": "86b06235-10c3-41af-d5a7-50cc70aeae5a"
      },
      "source": [
        "# Take a look at all titles's information\n",
        "discussions.groupby('title').count()"
      ],
      "execution_count": null,
      "outputs": [
        {
          "output_type": "execute_result",
          "data": {
            "text/html": [
              "<div>\n",
              "<style scoped>\n",
              "    .dataframe tbody tr th:only-of-type {\n",
              "        vertical-align: middle;\n",
              "    }\n",
              "\n",
              "    .dataframe tbody tr th {\n",
              "        vertical-align: top;\n",
              "    }\n",
              "\n",
              "    .dataframe thead th {\n",
              "        text-align: right;\n",
              "    }\n",
              "</style>\n",
              "<table border=\"1\" class=\"dataframe\">\n",
              "  <thead>\n",
              "    <tr style=\"text-align: right;\">\n",
              "      <th></th>\n",
              "      <th>type</th>\n",
              "      <th>year</th>\n",
              "      <th>post</th>\n",
              "    </tr>\n",
              "    <tr>\n",
              "      <th>title</th>\n",
              "      <th></th>\n",
              "      <th></th>\n",
              "      <th></th>\n",
              "    </tr>\n",
              "  </thead>\n",
              "  <tbody>\n",
              "    <tr>\n",
              "      <th>Better Call Saul</th>\n",
              "      <td>5268</td>\n",
              "      <td>5268</td>\n",
              "      <td>5268</td>\n",
              "    </tr>\n",
              "    <tr>\n",
              "      <th>Black Mirror</th>\n",
              "      <td>4720</td>\n",
              "      <td>4720</td>\n",
              "      <td>4720</td>\n",
              "    </tr>\n",
              "    <tr>\n",
              "      <th>Breaking Bad</th>\n",
              "      <td>6424</td>\n",
              "      <td>6424</td>\n",
              "      <td>6424</td>\n",
              "    </tr>\n",
              "    <tr>\n",
              "      <th>Dark</th>\n",
              "      <td>2004</td>\n",
              "      <td>2004</td>\n",
              "      <td>2004</td>\n",
              "    </tr>\n",
              "    <tr>\n",
              "      <th>Fargo</th>\n",
              "      <td>680</td>\n",
              "      <td>680</td>\n",
              "      <td>680</td>\n",
              "    </tr>\n",
              "    <tr>\n",
              "      <th>Game of Thrones</th>\n",
              "      <td>15462</td>\n",
              "      <td>15462</td>\n",
              "      <td>15462</td>\n",
              "    </tr>\n",
              "    <tr>\n",
              "      <th>House of Cards</th>\n",
              "      <td>158</td>\n",
              "      <td>158</td>\n",
              "      <td>158</td>\n",
              "    </tr>\n",
              "    <tr>\n",
              "      <th>La Casa de Papel</th>\n",
              "      <td>150</td>\n",
              "      <td>150</td>\n",
              "      <td>150</td>\n",
              "    </tr>\n",
              "    <tr>\n",
              "      <th>Mindhunter</th>\n",
              "      <td>657</td>\n",
              "      <td>657</td>\n",
              "      <td>657</td>\n",
              "    </tr>\n",
              "    <tr>\n",
              "      <th>Mr. Robot</th>\n",
              "      <td>1347</td>\n",
              "      <td>1347</td>\n",
              "      <td>1347</td>\n",
              "    </tr>\n",
              "    <tr>\n",
              "      <th>Orange is the New Black</th>\n",
              "      <td>1208</td>\n",
              "      <td>1208</td>\n",
              "      <td>1208</td>\n",
              "    </tr>\n",
              "    <tr>\n",
              "      <th>Ozark</th>\n",
              "      <td>1417</td>\n",
              "      <td>1417</td>\n",
              "      <td>1417</td>\n",
              "    </tr>\n",
              "    <tr>\n",
              "      <th>Stranger Things</th>\n",
              "      <td>2891</td>\n",
              "      <td>2891</td>\n",
              "      <td>2891</td>\n",
              "    </tr>\n",
              "    <tr>\n",
              "      <th>Succession</th>\n",
              "      <td>389</td>\n",
              "      <td>389</td>\n",
              "      <td>389</td>\n",
              "    </tr>\n",
              "    <tr>\n",
              "      <th>The Crown</th>\n",
              "      <td>335</td>\n",
              "      <td>338</td>\n",
              "      <td>338</td>\n",
              "    </tr>\n",
              "    <tr>\n",
              "      <th>The Mandelorian</th>\n",
              "      <td>95</td>\n",
              "      <td>95</td>\n",
              "      <td>95</td>\n",
              "    </tr>\n",
              "    <tr>\n",
              "      <th>The Newsroom</th>\n",
              "      <td>484</td>\n",
              "      <td>484</td>\n",
              "      <td>484</td>\n",
              "    </tr>\n",
              "    <tr>\n",
              "      <th>The Witcher</th>\n",
              "      <td>1188</td>\n",
              "      <td>1188</td>\n",
              "      <td>1188</td>\n",
              "    </tr>\n",
              "    <tr>\n",
              "      <th>True Detective</th>\n",
              "      <td>2721</td>\n",
              "      <td>2721</td>\n",
              "      <td>2721</td>\n",
              "    </tr>\n",
              "    <tr>\n",
              "      <th>Twin Peaks</th>\n",
              "      <td>2399</td>\n",
              "      <td>2399</td>\n",
              "      <td>2399</td>\n",
              "    </tr>\n",
              "  </tbody>\n",
              "</table>\n",
              "</div>"
            ],
            "text/plain": [
              "                          type   year   post\n",
              "title                                       \n",
              "Better Call Saul          5268   5268   5268\n",
              "Black Mirror              4720   4720   4720\n",
              "Breaking Bad              6424   6424   6424\n",
              "Dark                      2004   2004   2004\n",
              "Fargo                      680    680    680\n",
              "Game of Thrones          15462  15462  15462\n",
              "House of Cards             158    158    158\n",
              "La Casa de Papel           150    150    150\n",
              "Mindhunter                 657    657    657\n",
              "Mr. Robot                 1347   1347   1347\n",
              "Orange is the New Black   1208   1208   1208\n",
              "Ozark                     1417   1417   1417\n",
              "Stranger Things           2891   2891   2891\n",
              "Succession                 389    389    389\n",
              "The Crown                  335    338    338\n",
              "The Mandelorian             95     95     95\n",
              "The Newsroom               484    484    484\n",
              "The Witcher               1188   1188   1188\n",
              "True Detective            2721   2721   2721\n",
              "Twin Peaks                2399   2399   2399"
            ]
          },
          "metadata": {},
          "execution_count": 4
        }
      ]
    },
    {
      "cell_type": "markdown",
      "metadata": {
        "id": "5GqA5ZtG0KVd"
      },
      "source": [
        "### *A statement on the relevance of your comparison and the hypothesis (ca. 150 words)\n",
        "I choose two shows: \"Breaking Bad\" and \"Ozark\" then I will implement Wevers's approach with \"money\" category. \n",
        "\n",
        "First, both of the shows have similar story backgrounds which are related to financial problems that I think they can match more key words of money. The Breaking Bad talks about the main character produces drugs because he wants to earn a lot of money to secure his family's financial future before he dies. Likewise, Ozark talks about money laundering because the main character has to pay off tons of debt that he encounter some troubles with a drug cartel. \n",
        "\n",
        "Secondly, both of the main characters are males and fathers who are in an unfortunate situation. I think it will be interesting to look into the gender bias that how people discuss about the shows. \n",
        "\n",
        "Based on the two show's similarity in characters and plots, I assume they will have similar bias toward male because the plots depict more stories related to the male character about money issues."
      ]
    },
    {
      "cell_type": "markdown",
      "metadata": {
        "id": "nze4o3PIjLeL"
      },
      "source": [
        "### Train the embeddings model of \"Breaking Bad\"\n",
        "\n"
      ]
    },
    {
      "cell_type": "code",
      "metadata": {
        "id": "A1lr1YOjjVti"
      },
      "source": [
        "# Pre-processing all the posts of discussions by Spacy\n",
        "import spacy\n",
        "nlp = spacy.load(\"en_core_web_sm\")\n",
        "allposts = discussions.post.values\n",
        "processed_texts = [text for text in nlp.pipe(allposts,  disable=[\"ner\", \"parser\"])]"
      ],
      "execution_count": null,
      "outputs": []
    },
    {
      "cell_type": "markdown",
      "metadata": {
        "id": "zEMQbshpH_KY"
      },
      "source": [
        "For the pre-processing steps, I remove punctuations and also do lemmatization because I found there are too much slangs that cause noises of bias analysis in following steps."
      ]
    },
    {
      "cell_type": "code",
      "metadata": {
        "id": "o1KQWzFnYWvN"
      },
      "source": [
        "# The subset of \"Breaking Bad\" posts\n",
        "discussions['processed_texts'] = processed_texts\n",
        "processed_texts_BB = discussions[discussions.title == \"Breaking Bad\"].processed_texts\n",
        "\n",
        "# Remove punctuations, do lowercase and lemmatization but keep stop word\n",
        "tokenized_texts_BB = [[word.lemma_.lower() for word in processed_text if not word.is_punct] for processed_text in processed_texts_BB]"
      ],
      "execution_count": null,
      "outputs": []
    },
    {
      "cell_type": "code",
      "metadata": {
        "colab": {
          "base_uri": "https://localhost:8080/"
        },
        "id": "YGbhh2arQQtZ",
        "outputId": "d68439bf-31c8-43e9-f05e-99cfe80e2821"
      },
      "source": [
        "# Train the embeddings model of \"Breaking Bad\"\n",
        "import gensim\n",
        "from gensim.models import Word2Vec\n",
        "\n",
        "tokenized_texts = tokenized_texts_BB\n",
        "\n",
        "SIZE = 100 # dimensions of the embeddings\n",
        "SG = 1 # I use skip-gram\n",
        "WINDOW = 5 # the window size :the distances between the target words and its neighbors\n",
        "N_WORKERS = 1 # number of workers to use\n",
        "MIN_COUNT = 1 # because the corpus is not huge, I just keep everything\n",
        "\n",
        "model_BB = Word2Vec(size=SIZE,\n",
        "                sg=SG,\n",
        "                window=WINDOW, \n",
        "                min_count=MIN_COUNT,\n",
        "                workers=N_WORKERS)\n",
        "\n",
        "model_BB.build_vocab(tokenized_texts)\n",
        "\n",
        "model_BB.train(tokenized_texts,\n",
        "           total_examples=model_BB.corpus_count,\n",
        "           epochs=model_BB.epochs) "
      ],
      "execution_count": null,
      "outputs": [
        {
          "output_type": "execute_result",
          "data": {
            "text/plain": [
              "(365822, 548570)"
            ]
          },
          "metadata": {},
          "execution_count": 93
        }
      ]
    },
    {
      "cell_type": "code",
      "metadata": {
        "colab": {
          "base_uri": "https://localhost:8080/"
        },
        "id": "bnPyfZCLsXWo",
        "outputId": "a4b9da9b-878f-4ef0-cc0c-c6ce7395b168"
      },
      "source": [
        "import numpy as np\n",
        "\n",
        "# Get the mean embeddings of male words on Breaking Bad model\n",
        "# I also add some key characters' names to the gender list\n",
        "male_words = ['he','his','man', 'men', 'him', 'father', 'son','husband','walter', 'jesse']\n",
        "words = [word for word in male_words if word in model_BB.wv.vocab] # checks if word is in vocabulary (i.e. has been seen by the model before)\n",
        "male_mean_embedding = np.mean([model_BB.wv[word] for word in male_words], axis=0)\n",
        "print(male_mean_embedding.shape)\n",
        "\n",
        "# Get the mean embeddings of female words on Breaking Bad model\n",
        "female_words = ['she','female', 'woman','mother', 'daughter','wife','skyler','marie']\n",
        "words = [word for word in female_words if word in model_BB.wv.vocab] # checks if word is in vocabulary (i.e. has been seen by the model before)\n",
        "female_mean_embedding = np.mean([model_BB.wv[word] for word in female_words], axis=0)\n",
        "print(female_mean_embedding.shape)\n"
      ],
      "execution_count": null,
      "outputs": [
        {
          "output_type": "stream",
          "name": "stdout",
          "text": [
            "(100,)\n",
            "(100,)\n"
          ]
        }
      ]
    },
    {
      "cell_type": "code",
      "metadata": {
        "colab": {
          "base_uri": "https://localhost:8080/"
        },
        "id": "JostoLRqn0g_",
        "outputId": "14ddb17a-2378-40b6-fda3-3197548bb3a4"
      },
      "source": [
        "# Take a look at the similar words to check the results are sensible or not\n",
        "print(model_BB.wv.most_similar('man'))\n",
        "print(model_BB.wv.most_similar('woman'))"
      ],
      "execution_count": null,
      "outputs": [
        {
          "output_type": "stream",
          "name": "stdout",
          "text": [
            "[('damn', 0.9835809469223022), ('thank', 0.9832716584205627), ('fucking', 0.9816556572914124), ('yes', 0.9814798831939697), ('edit', 0.9811385869979858), ('longer', 0.9792422652244568), ('dude', 0.9780589938163757), ('yeah', 0.977643609046936), ('straight', 0.976722002029419), ('ted', 0.9750858545303345)]\n",
            "[('answer', 0.9987077713012695), ('perfect', 0.9986470341682434), ('plus', 0.9986249208450317), ('search', 0.9984275102615356), ('wire', 0.9984076023101807), ('list', 0.9983881711959839), ('quality', 0.9983317852020264), ('piss', 0.9981971383094788), ('note', 0.9981412291526794), ('evil', 0.9981235265731812)]\n"
          ]
        }
      ]
    },
    {
      "cell_type": "code",
      "metadata": {
        "colab": {
          "base_uri": "https://localhost:8080/",
          "height": 206
        },
        "id": "cCgeuV1do4UW",
        "outputId": "0de4f2e6-e709-44f5-943c-39cb9e77e9bd"
      },
      "source": [
        "# Work on the category of \"money\"\n",
        "import pandas as pd\n",
        "from pandas import DataFrame\n",
        "cats = pd.read_pickle('/content/drive/MyDrive/B2_Data Mining/Data/word_cats.p')\n",
        "cats = cats.dropna()\n",
        "cats.head()"
      ],
      "execution_count": null,
      "outputs": [
        {
          "output_type": "execute_result",
          "data": {
            "text/html": [
              "<div>\n",
              "<style scoped>\n",
              "    .dataframe tbody tr th:only-of-type {\n",
              "        vertical-align: middle;\n",
              "    }\n",
              "\n",
              "    .dataframe tbody tr th {\n",
              "        vertical-align: top;\n",
              "    }\n",
              "\n",
              "    .dataframe thead th {\n",
              "        text-align: right;\n",
              "    }\n",
              "</style>\n",
              "<table border=\"1\" class=\"dataframe\">\n",
              "  <thead>\n",
              "    <tr style=\"text-align: right;\">\n",
              "      <th></th>\n",
              "      <th>affect</th>\n",
              "      <th>posemo</th>\n",
              "      <th>negemo</th>\n",
              "      <th>social</th>\n",
              "      <th>family</th>\n",
              "      <th>cogproc</th>\n",
              "      <th>percept</th>\n",
              "      <th>body</th>\n",
              "      <th>work</th>\n",
              "      <th>leisure</th>\n",
              "      <th>money</th>\n",
              "      <th>relig</th>\n",
              "      <th>occupation</th>\n",
              "    </tr>\n",
              "  </thead>\n",
              "  <tbody>\n",
              "    <tr>\n",
              "      <th>0</th>\n",
              "      <td>protesting</td>\n",
              "      <td>incentive</td>\n",
              "      <td>destruction</td>\n",
              "      <td>chick</td>\n",
              "      <td>ma's</td>\n",
              "      <td>comply</td>\n",
              "      <td>squeez</td>\n",
              "      <td>pussy</td>\n",
              "      <td>dotcom</td>\n",
              "      <td>dnd</td>\n",
              "      <td>portfolio</td>\n",
              "      <td>goddess</td>\n",
              "      <td>accountant</td>\n",
              "    </tr>\n",
              "    <tr>\n",
              "      <th>1</th>\n",
              "      <td>pretty</td>\n",
              "      <td>luck</td>\n",
              "      <td>beaten</td>\n",
              "      <td>ma's</td>\n",
              "      <td>niece</td>\n",
              "      <td>luck</td>\n",
              "      <td>sand</td>\n",
              "      <td>wears</td>\n",
              "      <td>employee</td>\n",
              "      <td>vacation</td>\n",
              "      <td>sale</td>\n",
              "      <td>karma</td>\n",
              "      <td>actor</td>\n",
              "    </tr>\n",
              "    <tr>\n",
              "      <th>2</th>\n",
              "      <td>sighs</td>\n",
              "      <td>freeing</td>\n",
              "      <td>battl</td>\n",
              "      <td>lets</td>\n",
              "      <td>stepkid</td>\n",
              "      <td>unquestion</td>\n",
              "      <td>moist</td>\n",
              "      <td>hearts</td>\n",
              "      <td>paper</td>\n",
              "      <td>hobb</td>\n",
              "      <td>stores</td>\n",
              "      <td>pastor</td>\n",
              "      <td>actress</td>\n",
              "    </tr>\n",
              "    <tr>\n",
              "      <th>3</th>\n",
              "      <td>warmth</td>\n",
              "      <td>pretty</td>\n",
              "      <td>protesting</td>\n",
              "      <td>son's</td>\n",
              "      <td>son's</td>\n",
              "      <td>pretty</td>\n",
              "      <td>warmth</td>\n",
              "      <td>asleep</td>\n",
              "      <td>earns</td>\n",
              "      <td>band</td>\n",
              "      <td>bets</td>\n",
              "      <td>temple</td>\n",
              "      <td>actuary</td>\n",
              "    </tr>\n",
              "    <tr>\n",
              "      <th>4</th>\n",
              "      <td>mooch</td>\n",
              "      <td>nicely</td>\n",
              "      <td>dumber</td>\n",
              "      <td>daddies</td>\n",
              "      <td>daddies</td>\n",
              "      <td>become</td>\n",
              "      <td>gloomy</td>\n",
              "      <td>gums</td>\n",
              "      <td>assign</td>\n",
              "      <td>skat</td>\n",
              "      <td>bank</td>\n",
              "      <td>holy</td>\n",
              "      <td>acupuncturist</td>\n",
              "    </tr>\n",
              "  </tbody>\n",
              "</table>\n",
              "</div>"
            ],
            "text/plain": [
              "       affect     posemo       negemo  ...      money    relig     occupation\n",
              "0  protesting  incentive  destruction  ...  portfolio  goddess     accountant\n",
              "1      pretty       luck       beaten  ...       sale    karma          actor\n",
              "2       sighs    freeing        battl  ...     stores   pastor        actress\n",
              "3      warmth     pretty   protesting  ...       bets   temple        actuary\n",
              "4       mooch     nicely       dumber  ...       bank     holy  acupuncturist\n",
              "\n",
              "[5 rows x 13 columns]"
            ]
          },
          "metadata": {},
          "execution_count": 97
        }
      ]
    },
    {
      "cell_type": "code",
      "metadata": {
        "colab": {
          "base_uri": "https://localhost:8080/",
          "height": 1000
        },
        "id": "2CMDgBVUrHd0",
        "outputId": "1ca74f63-e6d1-4924-a1b5-e918d2a79ef2"
      },
      "source": [
        "# Calculates the Frobenius-based distance between money words and the gender mean embedding of Breaking Bad\n",
        "bias_BB = {}\n",
        "\n",
        "# loop over all the words within money category in a list\n",
        "money = cats['money'].values.tolist()\n",
        "\n",
        "for word in money:\n",
        "  if word in model_BB.wv.vocab: # checks if word is in vocabulary (i.e. has been seen by the model before)\n",
        "    distance_male = np.linalg.norm(np.subtract(model_BB.wv[word], male_mean_embedding)) # distance between word and male_mean_embedding\n",
        "    distance_female = np.linalg.norm(np.subtract(model_BB.wv[word], female_mean_embedding)) # distance between word and female_mean_embedding\n",
        "    gender_bias_BB = distance_male - distance_female\n",
        "    bias_BB[word] = gender_bias_BB\n",
        "\n",
        "bias_BB = pd.DataFrame.from_dict(bias_BB, orient='index', columns=['Bias'])\n",
        "bias_BB.sort_values('Bias', ascending=False)"
      ],
      "execution_count": null,
      "outputs": [
        {
          "output_type": "execute_result",
          "data": {
            "text/html": [
              "<div>\n",
              "<style scoped>\n",
              "    .dataframe tbody tr th:only-of-type {\n",
              "        vertical-align: middle;\n",
              "    }\n",
              "\n",
              "    .dataframe tbody tr th {\n",
              "        vertical-align: top;\n",
              "    }\n",
              "\n",
              "    .dataframe thead th {\n",
              "        text-align: right;\n",
              "    }\n",
              "</style>\n",
              "<table border=\"1\" class=\"dataframe\">\n",
              "  <thead>\n",
              "    <tr style=\"text-align: right;\">\n",
              "      <th></th>\n",
              "      <th>Bias</th>\n",
              "    </tr>\n",
              "  </thead>\n",
              "  <tbody>\n",
              "    <tr>\n",
              "      <th>loan</th>\n",
              "      <td>0.128325</td>\n",
              "    </tr>\n",
              "    <tr>\n",
              "      <th>jackpot</th>\n",
              "      <td>0.127868</td>\n",
              "    </tr>\n",
              "    <tr>\n",
              "      <th>bonus</th>\n",
              "      <td>0.124230</td>\n",
              "    </tr>\n",
              "    <tr>\n",
              "      <th>fund</th>\n",
              "      <td>0.122323</td>\n",
              "    </tr>\n",
              "    <tr>\n",
              "      <th>beggar</th>\n",
              "      <td>0.119161</td>\n",
              "    </tr>\n",
              "    <tr>\n",
              "      <th>seller</th>\n",
              "      <td>0.117585</td>\n",
              "    </tr>\n",
              "    <tr>\n",
              "      <th>sale</th>\n",
              "      <td>0.116460</td>\n",
              "    </tr>\n",
              "    <tr>\n",
              "      <th>selling</th>\n",
              "      <td>0.113384</td>\n",
              "    </tr>\n",
              "    <tr>\n",
              "      <th>atm</th>\n",
              "      <td>0.111747</td>\n",
              "    </tr>\n",
              "    <tr>\n",
              "      <th>budget</th>\n",
              "      <td>0.108843</td>\n",
              "    </tr>\n",
              "    <tr>\n",
              "      <th>dinero</th>\n",
              "      <td>0.107051</td>\n",
              "    </tr>\n",
              "    <tr>\n",
              "      <th>fortune</th>\n",
              "      <td>0.102689</td>\n",
              "    </tr>\n",
              "    <tr>\n",
              "      <th>wager</th>\n",
              "      <td>0.087112</td>\n",
              "    </tr>\n",
              "    <tr>\n",
              "      <th>poorly</th>\n",
              "      <td>0.079451</td>\n",
              "    </tr>\n",
              "    <tr>\n",
              "      <th>debt</th>\n",
              "      <td>0.073776</td>\n",
              "    </tr>\n",
              "    <tr>\n",
              "      <th>customer</th>\n",
              "      <td>0.067259</td>\n",
              "    </tr>\n",
              "    <tr>\n",
              "      <th>trade</th>\n",
              "      <td>0.066481</td>\n",
              "    </tr>\n",
              "    <tr>\n",
              "      <th>profit</th>\n",
              "      <td>0.031151</td>\n",
              "    </tr>\n",
              "    <tr>\n",
              "      <th>coin</th>\n",
              "      <td>0.010789</td>\n",
              "    </tr>\n",
              "    <tr>\n",
              "      <th>bet</th>\n",
              "      <td>0.003419</td>\n",
              "    </tr>\n",
              "    <tr>\n",
              "      <th>owe</th>\n",
              "      <td>0.000836</td>\n",
              "    </tr>\n",
              "    <tr>\n",
              "      <th>pay</th>\n",
              "      <td>-0.011057</td>\n",
              "    </tr>\n",
              "    <tr>\n",
              "      <th>deposit</th>\n",
              "      <td>-0.011824</td>\n",
              "    </tr>\n",
              "    <tr>\n",
              "      <th>business</th>\n",
              "      <td>-0.037135</td>\n",
              "    </tr>\n",
              "    <tr>\n",
              "      <th>worth</th>\n",
              "      <td>-0.037238</td>\n",
              "    </tr>\n",
              "    <tr>\n",
              "      <th>cost</th>\n",
              "      <td>-0.044949</td>\n",
              "    </tr>\n",
              "    <tr>\n",
              "      <th>cheap</th>\n",
              "      <td>-0.048424</td>\n",
              "    </tr>\n",
              "    <tr>\n",
              "      <th>market</th>\n",
              "      <td>-0.060171</td>\n",
              "    </tr>\n",
              "    <tr>\n",
              "      <th>cash</th>\n",
              "      <td>-0.082989</td>\n",
              "    </tr>\n",
              "    <tr>\n",
              "      <th>bank</th>\n",
              "      <td>-0.091697</td>\n",
              "    </tr>\n",
              "    <tr>\n",
              "      <th>credit</th>\n",
              "      <td>-0.101803</td>\n",
              "    </tr>\n",
              "    <tr>\n",
              "      <th>dollar</th>\n",
              "      <td>-0.130271</td>\n",
              "    </tr>\n",
              "  </tbody>\n",
              "</table>\n",
              "</div>"
            ],
            "text/plain": [
              "              Bias\n",
              "loan      0.128325\n",
              "jackpot   0.127868\n",
              "bonus     0.124230\n",
              "fund      0.122323\n",
              "beggar    0.119161\n",
              "seller    0.117585\n",
              "sale      0.116460\n",
              "selling   0.113384\n",
              "atm       0.111747\n",
              "budget    0.108843\n",
              "dinero    0.107051\n",
              "fortune   0.102689\n",
              "wager     0.087112\n",
              "poorly    0.079451\n",
              "debt      0.073776\n",
              "customer  0.067259\n",
              "trade     0.066481\n",
              "profit    0.031151\n",
              "coin      0.010789\n",
              "bet       0.003419\n",
              "owe       0.000836\n",
              "pay      -0.011057\n",
              "deposit  -0.011824\n",
              "business -0.037135\n",
              "worth    -0.037238\n",
              "cost     -0.044949\n",
              "cheap    -0.048424\n",
              "market   -0.060171\n",
              "cash     -0.082989\n",
              "bank     -0.091697\n",
              "credit   -0.101803\n",
              "dollar   -0.130271"
            ]
          },
          "metadata": {},
          "execution_count": 98
        }
      ]
    },
    {
      "cell_type": "markdown",
      "metadata": {
        "id": "AOocoC6wLxn6"
      },
      "source": [
        "In the loop above, we caculate the \"bais value = distance to male - distance to female.\" If the value of bias is negative that means the word bias toward male. The bias with a smaller value also means the more significant bias toward male. In contrast, a positive value means the word bias toward female."
      ]
    },
    {
      "cell_type": "code",
      "metadata": {
        "colab": {
          "base_uri": "https://localhost:8080/"
        },
        "id": "KB9OIHm9wlWa",
        "outputId": "d56e7ecc-c9ed-49ad-ba48-d9d8faede589"
      },
      "source": [
        "bias_BB['Bias'].mean()"
      ],
      "execution_count": null,
      "outputs": [
        {
          "output_type": "execute_result",
          "data": {
            "text/plain": [
              "0.036324497777968645"
            ]
          },
          "metadata": {},
          "execution_count": 99
        }
      ]
    },
    {
      "cell_type": "markdown",
      "metadata": {
        "id": "80_yM4cMuz9w"
      },
      "source": [
        "### Train the embeddings model of \"Ozark\"\n",
        "pre-processing steps are same as the processes of Breaking Bad model"
      ]
    },
    {
      "cell_type": "code",
      "metadata": {
        "id": "owpENFX0llFS"
      },
      "source": [
        "# The subset of \"Ozark\"\n",
        "processed_texts_ozark = discussions[discussions.title == \"Ozark\"].processed_texts\n",
        "\n",
        "# Remove punctuations, do lowercase and lemmatization but keep stop word\n",
        "tokenized_texts_ozark = [[word.lemma_.lower() for word in processed_text if not word.is_punct] for processed_text in processed_texts_ozark]"
      ],
      "execution_count": null,
      "outputs": []
    },
    {
      "cell_type": "code",
      "metadata": {
        "colab": {
          "base_uri": "https://localhost:8080/"
        },
        "id": "edSAscNenOuI",
        "outputId": "153005ba-ef58-43c8-f3f2-3fca32cfab58"
      },
      "source": [
        "# Train the embeddings model of \"Ozark\"\n",
        "import gensim\n",
        "from gensim.models import Word2Vec\n",
        "\n",
        "tokenized_texts = tokenized_texts_ozark\n",
        "\n",
        "# Parameters setting as the model of Breaking Bad\n",
        "SIZE = 100 # dimensions of the embeddings(representing)\n",
        "SG = 1 # I use skip-gram\n",
        "WINDOW = 5 # the window size(the distances between the target words and its neighbors)\n",
        "N_WORKERS = 1 # number of workers to use\n",
        "MIN_COUNT = 1 # because the corpus is not huge, I just keep everything\n",
        "\n",
        "model_ozark = Word2Vec(size=SIZE,\n",
        "                sg=SG,\n",
        "                window=WINDOW, \n",
        "                min_count=MIN_COUNT,\n",
        "                workers=N_WORKERS)\n",
        "\n",
        "model_ozark.build_vocab(tokenized_texts)\n",
        "\n",
        "model_ozark.train(tokenized_texts,\n",
        "           total_examples=model_ozark.corpus_count,\n",
        "           epochs=model_ozark.epochs)"
      ],
      "execution_count": null,
      "outputs": [
        {
          "output_type": "execute_result",
          "data": {
            "text/plain": [
              "(140946, 213960)"
            ]
          },
          "metadata": {},
          "execution_count": 53
        }
      ]
    },
    {
      "cell_type": "code",
      "metadata": {
        "colab": {
          "base_uri": "https://localhost:8080/"
        },
        "id": "iOC4HQsou68b",
        "outputId": "5edf2c47-4985-48a8-c83a-9e61a2f53083"
      },
      "source": [
        "# Get the mean embeddings of male words on ozark model\n",
        "# I also add some key characters' names to the gender list\n",
        "male_words = ['he', 'male', 'man', 'men', 'father', 'son','marty','husband','jonah']\n",
        "words = [word for word in male_words if word in model_ozark.wv.vocab] # checks if word is in vocabulary (i.e. has been seen by the model before)\n",
        "male_mean_embedding = np.mean([model_ozark.wv[word] for word in male_words], axis=0)\n",
        "print(male_mean_embedding.shape)\n",
        "\n",
        "# Get the mean embeddings of female words on ozark model\n",
        "female_words = ['her', 'female', 'woman', 'mother','daughter','wendy','wife','charlotte']\n",
        "words = [word for word in female_words if word in model_ozark.wv.vocab] # checks if word is in vocabulary (i.e. has been seen by the model before)\n",
        "female_mean_embedding = np.mean([model_ozark.wv[word] for word in female_words], axis=0)\n",
        "print(female_mean_embedding.shape)\n"
      ],
      "execution_count": null,
      "outputs": [
        {
          "output_type": "stream",
          "name": "stdout",
          "text": [
            "(100,)\n",
            "(100,)\n"
          ]
        }
      ]
    },
    {
      "cell_type": "code",
      "metadata": {
        "colab": {
          "base_uri": "https://localhost:8080/"
        },
        "id": "s6NOS6LvqeD0",
        "outputId": "dbc76d63-a07a-4acb-aa4b-5a74823aa835"
      },
      "source": [
        "print(model_ozark.wv.most_similar('marty'))\n",
        "print(model_ozark.wv.most_similar('woman'))"
      ],
      "execution_count": null,
      "outputs": [
        {
          "output_type": "stream",
          "name": "stdout",
          "text": [
            "[('ben', 0.9994434714317322), ('ruth', 0.9993201494216919), ('get', 0.9989938735961914), ('wendy', 0.9989310503005981), ('tell', 0.9987362623214722), ('even', 0.9986841678619385), ('try', 0.9986677169799805), ('how', 0.9986083507537842), ('want', 0.9985465407371521), ('helen', 0.9984966516494751)]\n",
            "[('hit', 0.9997388124465942), ('consequence', 0.9997091293334961), ('fine', 0.9996984601020813), ('similar', 0.9996966123580933), ('clean', 0.9996939897537231), ('blow', 0.9996863603591919), ('full', 0.9996861219406128), ('grow', 0.9996858239173889), ('investigation', 0.9996798634529114), ('touch', 0.999679446220398)]\n"
          ]
        }
      ]
    },
    {
      "cell_type": "code",
      "metadata": {
        "colab": {
          "base_uri": "https://localhost:8080/",
          "height": 739
        },
        "id": "bY55Kl9uvif0",
        "outputId": "2152affe-94ad-4e63-e705-6a4618b76a0c"
      },
      "source": [
        "# Calculates the Frobenius-based distance between money words and the gender mean embedding of Ozark\n",
        "bias_ozark = {}\n",
        "\n",
        "# # loop over all the words within money category in a list\n",
        "for word in money:\n",
        "  if word in model_ozark.wv.vocab: # checks if word is in vocabulary (i.e. has been seen by the model before)\n",
        "    distance_male = np.linalg.norm(np.subtract(model_ozark.wv[word], male_mean_embedding)) # distance between word and male_mean_embedding\n",
        "    distance_female = np.linalg.norm(np.subtract(model_ozark.wv[word], female_mean_embedding)) # distance between word and female_mean_embedding\n",
        "    gender_bias_ozark = distance_male - distance_female # get the bias value\n",
        "    bias_ozark[word] = gender_bias_ozark\n",
        "\n",
        "bias_ozark = pd.DataFrame.from_dict(bias_ozark, orient='index', columns=['Bias'])\n",
        "bias_ozark.sort_values('Bias', ascending=False)"
      ],
      "execution_count": null,
      "outputs": [
        {
          "output_type": "execute_result",
          "data": {
            "text/html": [
              "<div>\n",
              "<style scoped>\n",
              "    .dataframe tbody tr th:only-of-type {\n",
              "        vertical-align: middle;\n",
              "    }\n",
              "\n",
              "    .dataframe tbody tr th {\n",
              "        vertical-align: top;\n",
              "    }\n",
              "\n",
              "    .dataframe thead th {\n",
              "        text-align: right;\n",
              "    }\n",
              "</style>\n",
              "<table border=\"1\" class=\"dataframe\">\n",
              "  <thead>\n",
              "    <tr style=\"text-align: right;\">\n",
              "      <th></th>\n",
              "      <th>Bias</th>\n",
              "    </tr>\n",
              "  </thead>\n",
              "  <tbody>\n",
              "    <tr>\n",
              "      <th>wealthy</th>\n",
              "      <td>0.056690</td>\n",
              "    </tr>\n",
              "    <tr>\n",
              "      <th>deposit</th>\n",
              "      <td>0.056514</td>\n",
              "    </tr>\n",
              "    <tr>\n",
              "      <th>dime</th>\n",
              "      <td>0.056270</td>\n",
              "    </tr>\n",
              "    <tr>\n",
              "      <th>debt</th>\n",
              "      <td>0.055985</td>\n",
              "    </tr>\n",
              "    <tr>\n",
              "      <th>lease</th>\n",
              "      <td>0.055952</td>\n",
              "    </tr>\n",
              "    <tr>\n",
              "      <th>owe</th>\n",
              "      <td>0.055913</td>\n",
              "    </tr>\n",
              "    <tr>\n",
              "      <th>credit</th>\n",
              "      <td>0.055755</td>\n",
              "    </tr>\n",
              "    <tr>\n",
              "      <th>revenue</th>\n",
              "      <td>0.055747</td>\n",
              "    </tr>\n",
              "    <tr>\n",
              "      <th>loan</th>\n",
              "      <td>0.055610</td>\n",
              "    </tr>\n",
              "    <tr>\n",
              "      <th>bet</th>\n",
              "      <td>0.055361</td>\n",
              "    </tr>\n",
              "    <tr>\n",
              "      <th>poorly</th>\n",
              "      <td>0.055247</td>\n",
              "    </tr>\n",
              "    <tr>\n",
              "      <th>bank</th>\n",
              "      <td>0.053921</td>\n",
              "    </tr>\n",
              "    <tr>\n",
              "      <th>dollar</th>\n",
              "      <td>0.053740</td>\n",
              "    </tr>\n",
              "    <tr>\n",
              "      <th>cheap</th>\n",
              "      <td>0.052491</td>\n",
              "    </tr>\n",
              "    <tr>\n",
              "      <th>cost</th>\n",
              "      <td>0.050116</td>\n",
              "    </tr>\n",
              "    <tr>\n",
              "      <th>worth</th>\n",
              "      <td>0.046301</td>\n",
              "    </tr>\n",
              "    <tr>\n",
              "      <th>auditor</th>\n",
              "      <td>0.045530</td>\n",
              "    </tr>\n",
              "    <tr>\n",
              "      <th>profit</th>\n",
              "      <td>0.045275</td>\n",
              "    </tr>\n",
              "    <tr>\n",
              "      <th>cash</th>\n",
              "      <td>0.028005</td>\n",
              "    </tr>\n",
              "    <tr>\n",
              "      <th>casino</th>\n",
              "      <td>-0.050558</td>\n",
              "    </tr>\n",
              "    <tr>\n",
              "      <th>pay</th>\n",
              "      <td>-0.052100</td>\n",
              "    </tr>\n",
              "    <tr>\n",
              "      <th>business</th>\n",
              "      <td>-0.055511</td>\n",
              "    </tr>\n",
              "  </tbody>\n",
              "</table>\n",
              "</div>"
            ],
            "text/plain": [
              "              Bias\n",
              "wealthy   0.056690\n",
              "deposit   0.056514\n",
              "dime      0.056270\n",
              "debt      0.055985\n",
              "lease     0.055952\n",
              "owe       0.055913\n",
              "credit    0.055755\n",
              "revenue   0.055747\n",
              "loan      0.055610\n",
              "bet       0.055361\n",
              "poorly    0.055247\n",
              "bank      0.053921\n",
              "dollar    0.053740\n",
              "cheap     0.052491\n",
              "cost      0.050116\n",
              "worth     0.046301\n",
              "auditor   0.045530\n",
              "profit    0.045275\n",
              "cash      0.028005\n",
              "casino   -0.050558\n",
              "pay      -0.052100\n",
              "business -0.055511"
            ]
          },
          "metadata": {},
          "execution_count": 88
        }
      ]
    },
    {
      "cell_type": "code",
      "metadata": {
        "colab": {
          "base_uri": "https://localhost:8080/"
        },
        "id": "mLRsERdNFl4v",
        "outputId": "d46fdaa7-5d22-4750-cb1f-21b51f8a6c71"
      },
      "source": [
        "bias_ozark['Bias'].mean()"
      ],
      "execution_count": null,
      "outputs": [
        {
          "output_type": "execute_result",
          "data": {
            "text/plain": [
              "0.03782986036755822"
            ]
          },
          "metadata": {},
          "execution_count": 89
        }
      ]
    },
    {
      "cell_type": "markdown",
      "metadata": {
        "id": "iYI39F7Kbtey"
      },
      "source": [
        "### Visualization the bias results"
      ]
    },
    {
      "cell_type": "markdown",
      "metadata": {
        "id": "zIFPPx4lQLmk"
      },
      "source": [
        "I visualize the bias relationship between the two shows with violin plot and boxplot because with the both graphs we can easily compare their bias distributions and see the quartiles clearly within the show."
      ]
    },
    {
      "cell_type": "code",
      "metadata": {
        "id": "umLB6UTXBvec"
      },
      "source": [
        "bias_ozark['Show'] = 'Ozark'\n",
        "bias_BB['Show'] = 'Breaking Bad'\n",
        "bias_both = bias_BB.append(bias_ozark)"
      ],
      "execution_count": null,
      "outputs": []
    },
    {
      "cell_type": "code",
      "metadata": {
        "colab": {
          "base_uri": "https://localhost:8080/",
          "height": 433
        },
        "id": "vDOsbFp4gGGK",
        "outputId": "c09aa778-15a9-4f2a-c59e-87e8d3d31c40"
      },
      "source": [
        "# Plot the violin plot & box plot using seaborn package\n",
        "# Parametor setting references: https://seaborn.pydata.org/generated/seaborn.violinplot.html\n",
        "import matplotlib.pyplot as plt\n",
        "import seaborn as sb\n",
        "\n",
        "sb.set(style=\"whitegrid\")\n",
        "fig, ax = plt.subplots(1, figsize=(8,6), facecolor='white')\n",
        "\n",
        "# The violinplot\n",
        "sb.violinplot(data=bias_both, x =\"Show\", y =\"Bias\", linewidth=1, width=1)\n",
        "# The boxplot\n",
        "sb.boxplot(x =\"Show\", y =\"Bias\", data= bias_both, width=0.2, boxprops={'zorder': 2}, color=None)\n",
        "\n",
        "# Add labels\n",
        "plt.title(\"Compare the gender bias between Shows\", fontsize = 20)\n",
        "plt.xlabel(\"Show\")\n",
        "plt.ylabel(\"Gender Bias\")\n"
      ],
      "execution_count": null,
      "outputs": [
        {
          "output_type": "execute_result",
          "data": {
            "text/plain": [
              "Text(0, 0.5, 'Gender Bias')"
            ]
          },
          "metadata": {},
          "execution_count": 100
        },
        {
          "output_type": "display_data",
          "data": {
            "image/png": "[encoded data removed]",
            "text/plain": [
              "<Figure size 576x432 with 1 Axes>"
            ]
          },
          "metadata": {}
        }
      ]
    },
    {
      "cell_type": "markdown",
      "metadata": {
        "id": "cdb4tw1X0UM0"
      },
      "source": [
        "### *Interpretation and discussion (ca. 200 words)"
      ]
    },
    {
      "cell_type": "markdown",
      "metadata": {
        "id": "sk3R7Tf_iX0p"
      },
      "source": [
        "The plots above illustrate the relationship of gender bias between Breaking Bad and Ozark. The negative bias value means the word biased towards male, whereas positive bias value towards female. In the graph, we can discover and compare their gender bias with violinplot which clearly illustrates the bias distributions and boxplot which shows the quartiles in each one.\n",
        "\n",
        "It is striking that both of Breaking Bad and Ozark have more words related to money biased toward female and higher dense in Ozark. Actually, the result supprises me and is against to my hypothsis. However, I have gained insight into the data then found there are two critical points we can have more discussions about the justificaiton of the analysis.\n",
        "\n",
        "First, the dataset is composed of multiple short texts posted by different viewers in discussion rather than what the producer wrote in the plots. Compared to analyze a journal in our previous exercise, the texts may not have notable patterns between these posts for the model to learn in this case.\n",
        "Secondly, the words in the money category are actually more postive nouns related to business, like \"credit\", \"bonus\" and \"fortune.\" However, the both shows discribe a poor man in the difficult financial situations which have fewer links to these money words that might cause more bias to the female instead.\n",
        "\n",
        "In conclusion, it is also important to justify a useful, balanced and sufficient data for our reserch before we go into the conclusion. As the data in posts and catogory are not completely suitable for the bias analysis, in my perspective, the result is not fair and reliable enough."
      ]
    }
  ]
}